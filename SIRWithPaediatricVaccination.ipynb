{
 "cells": [
  {
   "cell_type": "code",
   "execution_count": null,
   "metadata": {},
   "outputs": [],
   "source": [
    "####################################################################\n",
    "###    This is the PYTHON version of program 8.1 from page 293 of  #\n",
    "### \"Modeling Infectious Disease in humans and animals\"            #\n",
    "### by Keeling & Rohani.\t\t\t\t\t\t\t\t\t\t   #\n",
    "###\t\t\t\t\t\t\t\t\t\t\t\t\t\t\t\t   #\n",
    "### It is the SIR epidemic (with equal births and deaths) and      #\n",
    "### prophylactic vaccination. Vaccination starts at time tV, after #\n",
    "### which a proportion p of all newborne individuals are vaccinated#\n",
    "####################################################################"
   ]
  },
  {
   "cell_type": "code",
   "execution_count": null,
   "metadata": {},
   "outputs": [],
   "source": [
    "import scipy.integrate as spi\n",
    "import numpy as np\n",
    "import pylab as pl"
   ]
  },
  {
   "cell_type": "markdown",
   "metadata": {},
   "source": [
    "*p is the proportion of new-borne individuals who are vaccinated.\n",
    "\n",
    "*beta is the transmission rate and incorporates the encounter rate between susceptible and infectious individuals together with the probability of transmission.\n",
    "\n",
    "*gamma is called the removal or recovery rate, though often we are more interested in its reciprocal (1/γ) which determines the average infectious period.\n",
    "\n",
    "*nu is the over-all birth set. We set ν=μ to keep the population size constant.\n",
    "\n",
    "*mu is the per captia death rate.\n",
    "\n",
    "*tV\tis the time at which the vaccination program is begun.\n",
    "\n",
    "*S0 is the initial proportion of the population that are susceptible.\n",
    "\n",
    "*I0 is the initial proportion of the population that are infectious."
   ]
  },
  {
   "cell_type": "code",
   "execution_count": null,
   "metadata": {},
   "outputs": [],
   "source": [
    "beta=520/365.0;\n",
    "gamma=1/7.0;\n",
    "mu=1/(70*365.0);\n",
    "S0=0.1;\n",
    "I0=1e-4;\n",
    "p0=0.7;\n",
    "tV=30*365;\n",
    "ND=MaxTime=100*365;\n",
    "TS=1.0\n",
    "R0=1-S0-I0"
   ]
  },
  {
   "cell_type": "code",
   "execution_count": null,
   "metadata": {},
   "outputs": [],
   "source": [
    "INPUT = np.hstack((S0,I0,R0))\n",
    "\n",
    "def diff_eqs(INP,t):  \n",
    "\t'''The main set of equations'''\n",
    "\tY=np.zeros((3))\n",
    "\tV = INP   \n",
    "\tY[0]= mu*(1-p) - beta*V[0]*V[1] - mu*V[0]\n",
    "\tY[1]= beta*V[0]*V[1] - gamma*V[1] - mu*V[1]\n",
    "\tY[2]= mu*p + gamma*V[1] - mu*V[2]\n",
    "\treturn Y   # For odeint\n",
    "\n",
    "t_start = 0.0; t_end = tV; t_inc = TS\n",
    "t_range1 = np.arange(t_start, t_end+t_inc, t_inc)\n",
    "t_start = tV; t_end = ND; t_inc = TS\n",
    "t_range2 = np.arange(tV, t_end+t_inc, t_inc)\n",
    "T = np.hstack((t_range1, t_range2))\n",
    "p=0\n",
    "RES1 = spi.odeint(diff_eqs,INPUT,t_range1)\n",
    "p=p0\n",
    "RES2 = spi.odeint(diff_eqs,RES1[-1],t_range2)\n",
    "print(RES2)\n"
   ]
  },
  {
   "cell_type": "code",
   "execution_count": null,
   "metadata": {},
   "outputs": [],
   "source": [
    "S = np.hstack((RES1[:,0],RES2[:,0]))\n",
    "I = np.hstack((RES1[:,1],RES2[:,1]))\n",
    "R = np.hstack((RES1[:,2],RES2[:,2]))"
   ]
  },
  {
   "cell_type": "code",
   "execution_count": null,
   "metadata": {},
   "outputs": [],
   "source": [
    "pl.subplot(311)\n",
    "pl.plot(T[1:,]/365.0, S[1:,], '-g')\n",
    "ll=pl.ylim()\n",
    "tVV=np.repeat([tV/365.],len(ll))\n",
    "pl.plot(tVV, ll, '--k')\n",
    "pl.subplots_adjust(hspace=1)\n",
    "pl.ylabel('Susceptibles')\n",
    "pl.subplot(312)\n",
    "pl.plot(T[1:,]/365.0, I[1:,], '-r')\n",
    "ll=pl.ylim()\n",
    "tVV=np.repeat([tV/365.],len(ll))\n",
    "pl.plot(tVV, ll, '--k')\n",
    "pl.ylabel('Infectious')\n",
    "pl.subplot(313)\n",
    "pl.plot(T[1:,]/365.0, R[1:,], '-k')\n",
    "ll=pl.ylim()\n",
    "tVV=np.repeat([tV/365.],len(ll))\n",
    "pl.plot(tVV, ll, '--k')\n",
    "pl.ylabel('Recovereds/Vaccinated')\n",
    "pl.xlabel('Time (Years)')\n",
    "\n",
    "pl.show()"
   ]
  }
 ],
 "metadata": {
  "kernelspec": {
   "display_name": "Python 3",
   "language": "python",
   "name": "python3"
  },
  "language_info": {
   "codemirror_mode": {
    "name": "ipython",
    "version": 3
   },
   "file_extension": ".py",
   "mimetype": "text/x-python",
   "name": "python",
   "nbconvert_exporter": "python",
   "pygments_lexer": "ipython3",
   "version": "3.7.6"
  }
 },
 "nbformat": 4,
 "nbformat_minor": 4
}
