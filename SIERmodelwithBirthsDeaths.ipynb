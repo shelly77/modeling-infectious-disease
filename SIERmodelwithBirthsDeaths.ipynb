{
 "cells": [
  {
   "cell_type": "code",
   "execution_count": 1,
   "metadata": {},
   "outputs": [],
   "source": [
    "####################################################################\n",
    "###    This is the PYTHON version of program 2.6 from page 41 of   #\n",
    "### \"Modeling Infectious Disease in humans and animals\"            #\n",
    "### by Keeling & Rohani.\t\t\t\t\t\t\t\t\t\t   #\n",
    "###\t\t\t\t\t\t\t\t\t\t\t\t\t\t\t\t   #\n",
    "### It is the SEIR epidemic with equal births and deaths.          #\n",
    "### Note we no-longer explicitly model the recovered class.\t       #\n",
    "####################################################################"
   ]
  },
  {
   "cell_type": "code",
   "execution_count": 2,
   "metadata": {},
   "outputs": [],
   "source": [
    "import scipy.integrate as spi\n",
    "import numpy as np\n",
    "import pylab as pl"
   ]
  },
  {
   "cell_type": "markdown",
   "metadata": {},
   "source": [
    "*mu is the per capita death rate, and the population level birth rate.\n",
    "\n",
    "*beta is the transmission rate and incorporates the encounter rate between susceptible and infectious individuals together with the probability of transmission.\n",
    "\n",
    "*gamma is called the removal or recovery rate, though often we are more interested in its reciprocal (1/γ) which determines the average infectious period.\n",
    "\n",
    "*sigma is the rate at which individuals move from the exposed to the infectious classes. Its reciprocal (1/σ) is the average latent (exposed) period.\n",
    "\n",
    "*S0 is the initial proportion of the population that are susceptible.\n",
    "\n",
    "*E0 is the initial proportion of the population that are exposed (infected but not infectious)\n",
    "\n",
    "*I0 is the initial proportion of the population that are infectious"
   ]
  },
  {
   "cell_type": "code",
   "execution_count": 3,
   "metadata": {},
   "outputs": [],
   "source": [
    "mu=1/(70*365.0)\n",
    "beta=520/365.0\n",
    "sigma=1/4.0\n",
    "gamma=1/7.0\n",
    "ND=365.0\n",
    "TS=1.0\n",
    "S0=0.9\n",
    "E0=1e-4\n",
    "I0=1e-4\n",
    "INPUT = (S0, E0, I0)"
   ]
  },
  {
   "cell_type": "code",
   "execution_count": 4,
   "metadata": {},
   "outputs": [],
   "source": [
    "def diff_eqs(INP,t):  \n",
    "\t'''The main set of equations'''\n",
    "\tY=np.zeros((3))\n",
    "\tV = INP    \n",
    "\tY[0] = mu - beta * V[0] * V[2] - mu * V[0]\n",
    "\tY[1] = beta * V[0] * V[2] - sigma * V[1] - mu * V[1]\n",
    "\tY[2] = sigma * V[1] - gamma * V[2] - mu * V[2]\n",
    "\treturn Y   # For odeint"
   ]
  },
  {
   "cell_type": "code",
   "execution_count": 5,
   "metadata": {},
   "outputs": [
    {
     "name": "stdout",
     "output_type": "stream",
     "text": [
      "[[ 9.00000000e-01  1.00000000e-04  1.00000000e-04]\n",
      " [ 8.99863907e-01  2.02275356e-04  1.22123197e-04]\n",
      " [ 8.99685290e-01  3.20075106e-04  1.66504476e-04]\n",
      " ...\n",
      " [ 1.23913151e-02 -1.05985735e-12  2.03894813e-11]\n",
      " [ 1.24299684e-02 -1.18812129e-12  1.99770505e-11]\n",
      " [ 1.24686202e-02 -1.31676446e-12  1.95473434e-11]]\n"
     ]
    }
   ],
   "source": [
    "t_start = 0.0; t_end = ND; t_inc = TS\n",
    "t_range = np.arange(t_start, t_end+t_inc, t_inc)\n",
    "RES = spi.odeint(diff_eqs,INPUT,t_range)\n",
    "\n",
    "Rec=1. - (RES[:,0]+RES[:,1]+RES[:,2])\n",
    "print(RES)"
   ]
  },
  {
   "cell_type": "code",
   "execution_count": 6,
   "metadata": {},
   "outputs": [
    {
     "data": {
      "image/png": "[encoded data removed]",
      "text/plain": [
       "<Figure size 432x288 with 3 Axes>"
      ]
     },
     "metadata": {
      "needs_background": "light"
     },
     "output_type": "display_data"
    }
   ],
   "source": [
    "#Ploting\n",
    "pl.subplot(311)\n",
    "pl.plot(RES[:,0], '-g', label='Susceptibles')\n",
    "pl.title('Program_2_6.py')\n",
    "pl.xlabel('Time')\n",
    "pl.ylabel('Susceptibles')\n",
    "pl.subplot(312)\n",
    "pl.plot(RES[:,1], '-m', label='Exposed')\n",
    "pl.plot(RES[:,2], '-r', label='Infectious')\n",
    "pl.legend(loc=0)\n",
    "pl.xlabel('Time')\n",
    "pl.ylabel('Infected')\n",
    "pl.subplot(313)\n",
    "pl.plot(Rec, '-k', label='Recovereds')\n",
    "pl.xlabel('Time')\n",
    "pl.ylabel('Recovereds')\n",
    "pl.show()"
   ]
  }
 ],
 "metadata": {
  "kernelspec": {
   "display_name": "Python 3",
   "language": "python",
   "name": "python3"
  },
  "language_info": {
   "codemirror_mode": {
    "name": "ipython",
    "version": 3
   },
   "file_extension": ".py",
   "mimetype": "text/x-python",
   "name": "python",
   "nbconvert_exporter": "python",
   "pygments_lexer": "ipython3",
   "version": "3.7.6"
  }
 },
 "nbformat": 4,
 "nbformat_minor": 4
}
