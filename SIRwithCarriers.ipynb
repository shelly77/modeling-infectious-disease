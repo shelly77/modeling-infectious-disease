{
 "cells": [
  {
   "cell_type": "code",
   "execution_count": 34,
   "metadata": {},
   "outputs": [],
   "source": [
    "####################################################################\n",
    "###    This is the PYTHON version of program 2.7 from page 44 of   #\n",
    "### \"Modeling Infectious Disease in humans and animals\"            #\n",
    "### by Keeling & Rohani.\t\t\t\t\t\t\t\t\t\t   #\n",
    "###\t\t\t\t\t\t\t\t\t\t\t\t\t\t\t\t   #\n",
    "### It is the SICR which includes a carrier class.\t\t           #\n",
    "####################################################################"
   ]
  },
  {
   "cell_type": "code",
   "execution_count": 35,
   "metadata": {},
   "outputs": [],
   "source": [
    "import scipy.integrate as spi\n",
    "import numpy as np\n",
    "import pylab as pl"
   ]
  },
  {
   "cell_type": "markdown",
   "metadata": {},
   "source": [
    "*mu is the per capita death rate, and the population level birth rate.\n",
    "\n",
    "*beta is the transmission rate and incorporates the encounter rate between susceptible and infectious individuals together with the probability of transmission.\n",
    "\n",
    "*gamma is called the removal or recovery rate, though often we are more interested in its reciprocal (1/γ) which determines the average infectious period.\n",
    "\n",
    "*epsilon is the proportion reduction in transmission from carriers compared to standard infectious individuals.\n",
    "\n",
    "*q is the proportion of infected individuals that become carriers rather than fully recover.\n",
    "\n",
    "*Gamma is the recovery rate associated with carriers; hence the reciprocal (1/Γ) is the average time an individual is in the carrier class.\n",
    "\n",
    "*S0 is the initial proportion of the population that are susceptible.\n",
    "\n",
    "*I0 is the initial proportion of the population that are infectious.\n",
    "\n",
    "*C0 is the initial proportion of the population that are carriers."
   ]
  },
  {
   "cell_type": "code",
   "execution_count": 36,
   "metadata": {},
   "outputs": [],
   "source": [
    "beta=0.2\n",
    "epsilon=0.1\n",
    "gamma=0.01\n",
    "Gamma=0.001\n",
    "mu=1/(50*365.0)\n",
    "q=0.4\n",
    "S0=0.1\n",
    "I0=1e-4\n",
    "C0=1e-3\n",
    "ND=10*365\n",
    "TS=1.0\n",
    "INPUT = (S0, I0, C0)"
   ]
  },
  {
   "cell_type": "code",
   "execution_count": 37,
   "metadata": {},
   "outputs": [],
   "source": [
    "def diff_eqs(INP,t):  \n",
    "\t'''The main set of equations'''\n",
    "\tY=np.zeros((3))\n",
    "\tV = INP    \n",
    "\tY[0] = mu - beta * V[0] * (V[1] + epsilon * V[2]) - mu * V[0]\n",
    "\tY[1] = beta * V[0] * (V[1] + epsilon * V[2]) - gamma * V[1] - mu * V[1]\n",
    "\tY[2] = q * gamma * V[1] - Gamma * V[2] - mu * V[2]\n",
    "\treturn Y   # For odeint"
   ]
  },
  {
   "cell_type": "code",
   "execution_count": 38,
   "metadata": {},
   "outputs": [
    {
     "name": "stdout",
     "output_type": "stream",
     "text": [
      "[[1.00000000e-01 1.00000000e-04 1.00000000e-03]\n",
      " [1.00045283e-01 1.03009779e-04 9.99351573e-04]\n",
      " [1.00090503e-01 1.06050215e-04 9.98715922e-04]\n",
      " ...\n",
      " [3.63145493e-02 5.23618744e-03 2.00877874e-02]\n",
      " [3.63147345e-02 5.23615827e-03 2.00875438e-02]\n",
      " [3.63149198e-02 5.23612927e-03 2.00873002e-02]]\n"
     ]
    }
   ],
   "source": [
    "t_start = 0.0; t_end = ND; t_inc = TS\n",
    "t_range = np.arange(t_start, t_end+t_inc, t_inc)\n",
    "RES = spi.odeint(diff_eqs,INPUT,t_range)\n",
    "\n",
    "Rec=1. - (RES[:,0]+RES[:,1]+RES[:,2])\n",
    "print(RES)"
   ]
  },
  {
   "cell_type": "code",
   "execution_count": 39,
   "metadata": {},
   "outputs": [
    {
     "data": {
      "image/png": "[encoded data removed]",
      "text/plain": [
       "<Figure size 432x288 with 1 Axes>"
      ]
     },
     "metadata": {
      "needs_background": "light"
     },
     "output_type": "display_data"
    },
    {
     "data": {
      "image/png": "[encoded data removed]",
      "text/plain": [
       "<Figure size 432x288 with 1 Axes>"
      ]
     },
     "metadata": {
      "needs_background": "light"
     },
     "output_type": "display_data"
    },
    {
     "data": {
      "image/png": "[encoded data removed]",
      "text/plain": [
       "<Figure size 432x288 with 1 Axes>"
      ]
     },
     "metadata": {
      "needs_background": "light"
     },
     "output_type": "display_data"
    },
    {
     "data": {
      "image/png": "[encoded data removed]",
      "text/plain": [
       "<Figure size 432x288 with 1 Axes>"
      ]
     },
     "metadata": {
      "needs_background": "light"
     },
     "output_type": "display_data"
    }
   ],
   "source": [
    "#Ploting\n",
    "pl.subplot(411)\n",
    "pl.plot(RES[:,0], '-g', label='Susceptibles')\n",
    "pl.title('Program_2_7.py')\n",
    "pl.ylabel('Susceptibles')\n",
    "pl.show()\n",
    "\n",
    "pl.subplot(412)\n",
    "pl.plot(RES[:,1], '-r', label='Infectious')\n",
    "pl.ylabel('Infected')\n",
    "pl.show()\n",
    "\n",
    "pl.subplot(413)\n",
    "pl.plot(RES[:,1], '-m', label='Carriers')\n",
    "pl.ylabel('Carriers')\n",
    "pl.show()\n",
    "\n",
    "pl.subplot(414)\n",
    "pl.plot(Rec, '-b', label='Recodereds')\n",
    "pl.xlabel('Time')\n",
    "pl.ylabel('Recodereds')\n",
    "pl.show()"
   ]
  }
 ],
 "metadata": {
  "kernelspec": {
   "display_name": "Python 3",
   "language": "python",
   "name": "python3"
  },
  "language_info": {
   "codemirror_mode": {
    "name": "ipython",
    "version": 3
   },
   "file_extension": ".py",
   "mimetype": "text/x-python",
   "name": "python",
   "nbconvert_exporter": "python",
   "pygments_lexer": "ipython3",
   "version": "3.7.6"
  }
 },
 "nbformat": 4,
 "nbformat_minor": 4
}
