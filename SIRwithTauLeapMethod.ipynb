{
 "cells": [
  {
   "cell_type": "code",
   "execution_count": 18,
   "metadata": {},
   "outputs": [],
   "source": [
    "####################################################################\n",
    "###    This is the PYTHON version of program 6.4 from page 203 of  #\n",
    "### \"Modeling Infectious Disease in humans and animals\"            #\n",
    "### by Keeling & Rohani.\t\t\t\t\t\t\t\t\t\t   #\n",
    "###\t\t\t\t\t\t\t\t\t\t\t\t\t\t\t\t   #\n",
    "### It is the SIR model (including births and deaths) with         #\n",
    "### (event-driven) demographic stochasticity approximated using    #\n",
    "### the tau-leap method and assuming Poisson distributions.\t\t   #\n",
    "###\t\t\t\t\t\t\t\t\t\t\t\t\t\t\t\t   #\n",
    "### This is a more complex stochastic model as 6 events are\t\t   #\n",
    "### possible: infection, recovery, birth, death of susceptible,    #\n",
    "### death of infected, death of recovered.\t\t\t\t\t\t   #\n",
    "###\t\t\t\t\t\t\t\t\t\t\t   \t\t\t\t\t   #\n",
    "### Note: by default we are using a very small population size \t   #\n",
    "### to highlight the stochasticity.\t\t\t\t   \t\t\t\t   #\n",
    "####################################################################"
   ]
  },
  {
   "cell_type": "code",
   "execution_count": 19,
   "metadata": {},
   "outputs": [],
   "source": [
    "import numpy as np\n",
    "import pylab as pl"
   ]
  },
  {
   "cell_type": "markdown",
   "metadata": {},
   "source": [
    "*beta is the transmission rate and incorporates the encounter rate between susceptible and infectious individuals together with the probability of transmission.\n",
    "\n",
    "*gamma is called the removal or recovery rate, though often we are more interested in its reciprocal (1/γ) which determines the average infectious period.\n",
    "\n",
    "*mu is the per capita death rate.\n",
    "\n",
    "*tao is the time-step that is taken each time, which can potentially contain multiple Poisson distributed events.\n",
    "\n",
    "*X0 is the initial number or density of susceptible individuals.\n",
    "\n",
    "*Y0 is the initial number or density of infectious individuals.\n",
    "\n",
    "*N is the population size -- assumed to be constant. We assume Z(0)=N-X(0)-Y(0)"
   ]
  },
  {
   "cell_type": "code",
   "execution_count": 20,
   "metadata": {},
   "outputs": [],
   "source": [
    "beta=1.0\n",
    "gamma=1/10.0\n",
    "mu=5e-4\n",
    "#N0=5000.0\n",
    "### You may want to try with popylation size of 50 (small) to see the events\n",
    "### In this case uncomment the next line\n",
    "N0=50.0\n",
    "ND=MaxTime=2*365.0\n",
    "Y0=pl.ceil(mu*N0/gamma)\n",
    "X0=pl.floor(gamma*N0/beta)\n",
    "Z0=N0-X0-Y0\n",
    "tau=1.0\n",
    "INPUT = np.array((X0,Y0,Z0))"
   ]
  },
  {
   "cell_type": "code",
   "execution_count": 21,
   "metadata": {},
   "outputs": [],
   "source": [
    "def stoc_eqs(INP): \n",
    "\tV = INP\n",
    "\tRate=np.zeros((6))\n",
    "\tChange=np.zeros((6,3))\n",
    "\tN=V[0]+V[1]+V[2]\n",
    "\tRate[0] = beta*V[0]*V[1]/N; Change[0,:]=([-1, +1, 0]);\n",
    "\tRate[1] = gamma*V[1];  Change[1,:]=([0, -1, +1]);\n",
    "\tRate[2] = mu*N;  Change[2,:]=([+1, 0, 0]);\n",
    "\tRate[3] = mu*V[0];  Change[3,:]=([-1, 0, 0]);\n",
    "\tRate[4] = mu*V[1];  Change[4,:]=([0, -1, 0]);\n",
    "\tRate[5] = mu*V[2];  Change[5,:]=([0, 0, -1]);\n",
    "    \n",
    "\tfor i in range(6):\n",
    "\t\tNum=np.random.poisson(Rate[i]*tau);\n",
    "\t\t## Make sure things don't go negative\n",
    "\t\tUse=min([Num, V[np.where(Change[i,:]<0)]]);\n",
    "\t\tV=V+Change[i,:]*Use;\n",
    "\treturn(V)"
   ]
  },
  {
   "cell_type": "code",
   "execution_count": 22,
   "metadata": {},
   "outputs": [],
   "source": [
    "def Stoch_Iteration(INPUT):\n",
    "\tlop=0\n",
    "\tS=[0]\n",
    "\tI=[0]\n",
    "\tR=[0]\n",
    "\tfor lop in T:\n",
    "\t\tres = stoc_eqs(INPUT)\n",
    "\t\tS.append(INPUT[0])\n",
    "\t\tI.append(INPUT[1])\n",
    "\t\tR.append(INPUT[2])\n",
    "\t\tINPUT=res\n",
    "\treturn [S,I,R]"
   ]
  },
  {
   "cell_type": "code",
   "execution_count": 23,
   "metadata": {},
   "outputs": [
    {
     "name": "stderr",
     "output_type": "stream",
     "text": [
      "/Applications/anaconda3/lib/python3.7/site-packages/ipykernel_launcher.py:16: DeprecationWarning: The truth value of an empty array is ambiguous. Returning False, but in future this will result in an error. Use `array.size > 0` to check that an array is not empty.\n",
      "  app.launch_new_instance()\n"
     ]
    }
   ],
   "source": [
    "T=np.arange(0.0, ND, tau)\n",
    "[S,I,R]=Stoch_Iteration(INPUT)\n",
    "\n",
    "tT=np.array(T)/365.\n",
    "tS=np.array(S)[1:,]\n",
    "tI=np.array(I)[1:,]\n",
    "tR=np.array(R)[1:,]"
   ]
  },
  {
   "cell_type": "code",
   "execution_count": 24,
   "metadata": {},
   "outputs": [
    {
     "data": {
      "image/png": "[encoded data removed]",
      "text/plain": [
       "<Figure size 432x288 with 3 Axes>"
      ]
     },
     "metadata": {
      "needs_background": "light"
     },
     "output_type": "display_data"
    }
   ],
   "source": [
    "pl.subplot(311)\n",
    "pl.plot(tT, tS, 'g')\n",
    "#pl.xlabel ('Time (years)')\n",
    "pl.ylabel ('Susceptible')\n",
    "pl.subplot(312)\n",
    "pl.plot(tT, tI, 'r')\n",
    "#pl.xlabel ('Time (years)')\n",
    "pl.ylabel ('Infectious')\n",
    "pl.subplot(313)\n",
    "pl.plot(tT, tR, 'k')\n",
    "pl.xlabel ('Time (years)')\n",
    "pl.ylabel ('Recovered')\n",
    "pl.show()"
   ]
  }
 ],
 "metadata": {
  "kernelspec": {
   "display_name": "Python 3",
   "language": "python",
   "name": "python3"
  },
  "language_info": {
   "codemirror_mode": {
    "name": "ipython",
    "version": 3
   },
   "file_extension": ".py",
   "mimetype": "text/x-python",
   "name": "python",
   "nbconvert_exporter": "python",
   "pygments_lexer": "ipython3",
   "version": "3.7.6"
  }
 },
 "nbformat": 4,
 "nbformat_minor": 4
}
