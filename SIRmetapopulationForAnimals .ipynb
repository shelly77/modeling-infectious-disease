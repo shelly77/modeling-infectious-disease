{
 "cells": [
  {
   "cell_type": "code",
   "execution_count": 5,
   "metadata": {},
   "outputs": [],
   "source": [
    "####################################################################\n",
    "###    This is the PYTHON version of program 7.1 from page 241 of  #\n",
    "### \"Modeling Infectious Disease in humans and animals\"            #\n",
    "### by Keeling & Rohani.\t\t\t\t\t\t\t\t\t\t   #\n",
    "###\t\t\t\t\t\t\t\t\t\t\t\t\t\t\t\t   #\n",
    "### It is the SIR epidemic in a metapopulation with \"animal-like\"  #\n",
    "### movements of infected or susceptible individuals across the    #\n",
    "### network.                                                       #\n",
    "###\t\t\t\t\t\t\t\t\t\t\t\t\t\t\t\t   #\n",
    "### The default model employs global coupling between ALL          #\n",
    "### subpopulations                                                 #\n",
    "####################################################################"
   ]
  },
  {
   "cell_type": "code",
   "execution_count": 6,
   "metadata": {},
   "outputs": [],
   "source": [
    "import scipy.integrate as spi\n",
    "import numpy as np\n",
    "import pylab as pl"
   ]
  },
  {
   "cell_type": "markdown",
   "metadata": {},
   "source": [
    "*n is the number of sub-populations. Note that all parameters are vectors of size n, or matrices of size n × n\n",
    "\n",
    "*βi\tis the transmission rate for each subpopulation; β is a vector of length n\n",
    "\n",
    "*γi\tis called the removal or recovery rate for each subpopulation; γ is a vector of length n\n",
    "\n",
    "*νi\tis the total birth rate for each subpopulation; ν is a vector of length n\n",
    "\n",
    "*μi\tis the per capita death rate for each subpopulation; μ is a vector of length n\n",
    "\n",
    "*mij\tis the rate at which hosts migrate to subpopulation i from subpopulation j. m is a matrix of size n × n.\n",
    "\n",
    "*Xi(0)\tis the initial number or density of susceptible individuals in each subpopulation; X(0) is a vector of length n.\n",
    "\n",
    "Yi(0)\tis the initial number or density of infectious individuals in each subpopulation; Y(0) is a vector of length n."
   ]
  },
  {
   "cell_type": "code",
   "execution_count": 7,
   "metadata": {},
   "outputs": [],
   "source": [
    "n=5;\n",
    "beta=1.0*np.ones(n);\n",
    "gamma=0.1*np.ones(n);\n",
    "nu=0.0001*np.ones(n);\n",
    "mu=0.0001*np.ones(n);\n",
    "X0=0.1*np.ones(n);\n",
    "Y0=0.0*np.ones(n); Y0[0]=0.0001;\n",
    "m=0.001*np.ones((n,n)); m=m-np.diag(np.diag(m));\n",
    "ND=MaxTime=2910.0;\n",
    "TS=1.0\n",
    "\n",
    "INPUT=np.hstack((X0,Y0))"
   ]
  },
  {
   "cell_type": "code",
   "execution_count": 8,
   "metadata": {},
   "outputs": [],
   "source": [
    "def diff_eqs(INP,t):  \n",
    "\t'''The main set of equations'''\n",
    "\tY=np.zeros((2*n))\n",
    "\tV = INP   \n",
    "\tfor i in range(n):\n",
    "\t\tY[i] = nu[i] - beta[i]*V[i]*V[n+i] - mu[i]*V[i]; \n",
    "\t\tY[n+i] = beta[i]*V[i]*V[n+i] - mu[i]*V[n+i] - gamma[i]*V[n+i]\n",
    "\t\tfor j in range(n):\n",
    "\t\t\tY[i]+=m[i][j]*V[j] - m[j][i]*V[i];\n",
    "\t\t\tY[n+i]+=m[i][j]*V[n+j] - m[j][i]*V[n+i];\n",
    "\treturn Y   # For odeint"
   ]
  },
  {
   "cell_type": "code",
   "execution_count": 9,
   "metadata": {},
   "outputs": [
    {
     "name": "stdout",
     "output_type": "stream",
     "text": [
      "[[1.00000000e-01 1.00000000e-01 1.00000000e-01 ... 0.00000000e+00\n",
      "  0.00000000e+00 0.00000000e+00]\n",
      " [1.00080032e-01 1.00089986e-01 1.00089986e-01 ... 9.97487007e-08\n",
      "  9.97487007e-08 9.97487007e-08]\n",
      " [1.00160128e-01 1.00179942e-01 1.00179942e-01 ... 1.99005302e-07\n",
      "  1.99005302e-07 1.99005302e-07]\n",
      " ...\n",
      " [1.01229118e-01 1.01229112e-01 1.01229112e-01 ... 4.63859360e-04\n",
      "  4.63859360e-04 4.63859360e-04]\n",
      " [1.01272000e-01 1.01271994e-01 1.01271994e-01 ... 4.64393260e-04\n",
      "  4.64393260e-04 4.64393260e-04]\n",
      " [1.01314803e-01 1.01314797e-01 1.01314797e-01 ... 4.64947697e-04\n",
      "  4.64947697e-04 4.64947697e-04]]\n"
     ]
    }
   ],
   "source": [
    "t_start = 0.0; t_end = ND; t_inc = TS\n",
    "t_range = np.arange(t_start, t_end+t_inc, t_inc)\n",
    "RES = spi.odeint(diff_eqs,INPUT,t_range)\n",
    "\n",
    "print(RES)\n"
   ]
  },
  {
   "cell_type": "code",
   "execution_count": 10,
   "metadata": {},
   "outputs": [
    {
     "data": {
      "image/png": "[encoded data removed]",
      "text/plain": [
       "<Figure size 432x288 with 2 Axes>"
      ]
     },
     "metadata": {
      "needs_background": "light"
     },
     "output_type": "display_data"
    }
   ],
   "source": [
    "#Ploting\n",
    "pl.subplot(211)\n",
    "for i in range(n):\n",
    "\tpl.plot(t_range/365.0, RES[:,i], color=(0.0,0.3,i/5))\n",
    "pl.xlabel('Time (Years)')\n",
    "pl.ylabel('Susceptibles')\n",
    "pl.subplot(212)\n",
    "for i in range(n):\n",
    "\tpl.plot(t_range/365.0, RES[:,i+n], color=(0.7,0.0,i/5))\n",
    "pl.ylabel('Infected')\n",
    "pl.xlabel('Time (Years)')\n",
    "\n",
    "pl.show()"
   ]
  }
 ],
 "metadata": {
  "kernelspec": {
   "display_name": "Python 3",
   "language": "python",
   "name": "python3"
  },
  "language_info": {
   "codemirror_mode": {
    "name": "ipython",
    "version": 3
   },
   "file_extension": ".py",
   "mimetype": "text/x-python",
   "name": "python",
   "nbconvert_exporter": "python",
   "pygments_lexer": "ipython3",
   "version": "3.7.6"
  }
 },
 "nbformat": 4,
 "nbformat_minor": 4
}
