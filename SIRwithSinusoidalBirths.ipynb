{
 "cells": [
  {
   "cell_type": "code",
   "execution_count": null,
   "metadata": {},
   "outputs": [],
   "source": [
    "####################################################################\n",
    "###    This is the PYTHON version of program 5.3 from page 184 of  #\n",
    "### \"Modeling Infectious Disease in humans and animals\"            #\n",
    "### by Keeling & Rohani.\t\t\t\t\t\t\t\t\t\t   #\n",
    "###\t\t\t\t\t\t\t\t\t\t\t\t\t\t\t\t   #\n",
    "### It is the simple SIR epidemic with sinusoidal forcing of the   #\n",
    "### birth rate.\t\t\t\t         \t\t\t\t\t\t\t   #\n",
    "### Note: setting beta1 too high can cause numerical difficulties. #\n",
    "####################################################################"
   ]
  },
  {
   "cell_type": "code",
   "execution_count": null,
   "metadata": {},
   "outputs": [],
   "source": [
    "import scipy.integrate as spi\n",
    "import numpy as np\n",
    "import pylab as pl"
   ]
  },
  {
   "cell_type": "markdown",
   "metadata": {},
   "source": [
    "*alpha0 is the mean birth rate.\n",
    "\n",
    "*alpha1 is the amplitude of sinuoidal forcing for the birth rate.\n",
    "\n",
    "*We set ω=2π/365, such that oscillations are annual.\n",
    "\n",
    "*mu is the per capita death rate, and set equal to the average birth rate α0.\n",
    "\n",
    "*gamma is called the removal or recovery rate, though often we are more interested in its reciprocal (1/γ) which determines the average infectious period.\n",
    "\n",
    "*S0 is the initial proportion of the population that are susceptible.\n",
    "\n",
    "*I0 is the initial proportion of the population that are infectious."
   ]
  },
  {
   "cell_type": "code",
   "execution_count": null,
   "metadata": {},
   "outputs": [],
   "source": [
    "beta=17/13.\n",
    "gamma=1/13.0\n",
    "alpha0=1/(50*365.0)\n",
    "alpha1=([0.25])\n",
    "S0=1/17.\n",
    "I0=1e-4\n",
    "ND=MaxTime=60*365\n",
    "TS=1.0"
   ]
  },
  {
   "cell_type": "code",
   "execution_count": null,
   "metadata": {},
   "outputs": [],
   "source": [
    "### This code can also be used to generate bifurcation diagrams, by setting\n",
    "### beta1 equal to a vector of seasonality rates. The bifurcation diagram is\n",
    "### constructed using extrapolated initial conditions. Try:\n",
    "#(beta,gamma,alpha0, alpha1,S0,I0,ND)=(17/13.,1/13., 1./(50*365), np.arange(0.00,1.0,0.01),1/17., 1e-4, 20*365)"
   ]
  },
  {
   "cell_type": "code",
   "execution_count": null,
   "metadata": {},
   "outputs": [],
   "source": [
    "def diff_eqs(INP,t):  \n",
    "\t'''The main set of equations'''\n",
    "\tY=np.zeros((3))\n",
    "\tV = INP   \n",
    "\tt=np.mod(t,365.)\n",
    "\talpha=alpha0*(1+alpha1*np.sin(2*np.pi*t/365))\n",
    "\tmu=alpha0\n",
    "\tY[0] = alpha - beta*V[0]*V[1] - mu*V[0]\n",
    "\tY[1] = beta*V[0]*V[1] - mu*V[1] - gamma*V[1]\n",
    "\tY[2] = gamma * V[1] - mu * V[2]\n",
    "\treturn Y   # For odeint"
   ]
  },
  {
   "cell_type": "code",
   "execution_count": null,
   "metadata": {},
   "outputs": [],
   "source": [
    "if len(alpha1)==1:\n",
    "\talpha1=alpha1[0]\n",
    "\tt_start = 0.0; t_end = ND; t_inc = TS\n",
    "\tt_range = np.arange(t_start, t_end+t_inc, t_inc)\n",
    "\tRES = spi.odeint(diff_eqs,INPUT,t_range)\n",
    "\n",
    "\tprint(RES)\n",
    "\n",
    "\tt=(np.arange(ND)/365.)\n",
    "\t#Ploting\n",
    "\tpl.subplot(311)\n",
    "\tpl.plot(t,RES[1:,0], 'g', label='S')\n",
    "\tpl.xlabel ('Time (years)')\n",
    "\tpl.ylabel ('Susceptibles')\n",
    "\tpl.subplot(312)\n",
    "\tpl.plot(t,RES[1:,1], 'r', label='I')\n",
    "\tpl.xlabel ('Time (years)')\n",
    "\tpl.ylabel ('Infectious')\n",
    "\tpl.subplot(313)\n",
    "\tpl.plot(t,1-(RES[1:,0]+RES[1:,1]), 'k', label='R')\n",
    "\tpl.xlabel ('Time (years)')\n",
    "\tpl.ylabel ('Recovereds')\n",
    "\n",
    "else:\n",
    "\tif ND < 3650:\n",
    "\t\tND = 3650\n",
    "\talpha2=alpha1\n",
    "\tBifur_I=np.zeros((len(alpha2),10))\n",
    "\tfor i in range(len(alpha2)):\n",
    "\t\talpha1 = alpha2[i]\n",
    "\n",
    "\t\tt_start = 0.0; t_end = ND; t_inc = TS\n",
    "\t\tt_range = np.arange(t_start, t_end+t_inc, t_inc)\n",
    "\t\tRES = spi.odeint(diff_eqs,INPUT,t_range)\n",
    "\t\tINPUT=RES[-1]\n",
    "\n",
    "\t\tfor j in range(10):\n",
    "\t\t\tBifur_I[i,j]=RES[np.arange(ND)[((ND-j*365.)-1)],1]\n",
    "\n",
    "\t### Plotting\n",
    "\tpl.plot (alpha2, np.log10(Bifur_I), '.k')\n",
    "\t### if TeX commands do not work comment comment the next line\n",
    "\tpl.xlabel (r'Seasonality, $\\alpha_1$')\n",
    "\tpl.ylabel (r'Level of Infection $(log_{10})$')\n",
    "\t### if TeX commands do not work comment uncomment the next line\n",
    "#\tpl.xlabel ('Seasonality, beta1')\n",
    "#\tpl.ylabel ('Level of Infection (log_10)')\n",
    "pl.show()"
   ]
  },
  {
   "cell_type": "code",
   "execution_count": null,
   "metadata": {},
   "outputs": [],
   "source": []
  },
  {
   "cell_type": "code",
   "execution_count": null,
   "metadata": {},
   "outputs": [],
   "source": []
  }
 ],
 "metadata": {
  "kernelspec": {
   "display_name": "Python 3",
   "language": "python",
   "name": "python3"
  },
  "language_info": {
   "codemirror_mode": {
    "name": "ipython",
    "version": 3
   },
   "file_extension": ".py",
   "mimetype": "text/x-python",
   "name": "python",
   "nbconvert_exporter": "python",
   "pygments_lexer": "ipython3",
   "version": "3.7.6"
  }
 },
 "nbformat": 4,
 "nbformat_minor": 4
}
