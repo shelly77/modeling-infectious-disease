{
 "cells": [
  {
   "cell_type": "code",
   "execution_count": 1,
   "metadata": {},
   "outputs": [],
   "source": [
    "####################################################################\n",
    "###    This is the PYTHON version of program 6.3 from page 202 of  #\n",
    "### \"Modeling Infectious Disease in humans and animals\"            #\n",
    "### by Keeling & Rohani.\t\t\t\t\t\t\t\t\t\t   #\n",
    "###\t\t\t\t\t\t\t\t\t\t\t\t\t\t\t\t   #\n",
    "### This is a relatively simple stochastic model as only 2 events  #\n",
    "### are possible: infection or recovery.\t\t\t\t\t\t   #\n",
    "### Note: by default we are using a very small population size \t   #\n",
    "### to highlight the stochasticity.\t\t\t\t   \t\t\t\t   #\n",
    "####################################################################"
   ]
  },
  {
   "cell_type": "code",
   "execution_count": 2,
   "metadata": {},
   "outputs": [],
   "source": [
    "import numpy as np\n",
    "import pylab as pl"
   ]
  },
  {
   "cell_type": "markdown",
   "metadata": {},
   "source": [
    "*beta is the transmission rate and incorporates the encounter rate between susceptible and infectious individuals together with the probability of transmission.\n",
    "*gamma is called the removal or recovery rate, though often we are more interested in its reciprocal (1/γ) which determines the average infectious period.\n",
    "*Y0 is the initial number of infectious individuals.\n",
    "*N is the population size -- assumed to be constant."
   ]
  },
  {
   "cell_type": "code",
   "execution_count": 3,
   "metadata": {},
   "outputs": [],
   "source": [
    "beta=0.03\n",
    "gamma=1/100.0\n",
    "Y0=70.0\n",
    "N0=100.0\n",
    "ND=MaxTime=10*365.0;\n",
    "INPUT = Y0\n",
    "timestep=0.0"
   ]
  },
  {
   "cell_type": "code",
   "execution_count": 4,
   "metadata": {},
   "outputs": [],
   "source": [
    "def stoc_eqs(INP,ts):  \n",
    "\tZ=INP\n",
    "\tRate1 = beta*(N0-Z)*Z/N0\n",
    "\tRate2 = gamma*Z\n",
    "\tR1=pl.rand()\n",
    "\tR2=pl.rand()\n",
    "\tts = -np.log(R2)/(Rate1+Rate2)\n",
    "\tif R1<(Rate1/(Rate1+Rate2)):\n",
    "\t\tZ += 1;  # do infection\n",
    "\telse:\n",
    "\t\tZ -= 1;  # do recovery\n",
    "\treturn [Z,ts]"
   ]
  },
  {
   "cell_type": "code",
   "execution_count": 5,
   "metadata": {},
   "outputs": [],
   "source": [
    "def Stoch_Iteration(INPUT):\n",
    "\tlop=0\n",
    "\tts=0\n",
    "\tT=[0]\n",
    "\tRES=[0]\n",
    "\twhile T[lop] < ND and INPUT > 0:\n",
    "\t\t[res,ts] = stoc_eqs(INPUT,ts)\n",
    "\t\tlop=lop+1\n",
    "\t\tT.append(T[lop-1]+ts)\n",
    "\t\tRES.append(INPUT)\n",
    "\t\tlop=lop+1\n",
    "\t\tT.append(T[lop-1])\n",
    "\t\tRES.append(res)\n",
    "\t\tINPUT=res\n",
    "\treturn [RES, T]"
   ]
  },
  {
   "cell_type": "code",
   "execution_count": 6,
   "metadata": {},
   "outputs": [],
   "source": [
    "[RES,t]=Stoch_Iteration(INPUT)"
   ]
  },
  {
   "cell_type": "code",
   "execution_count": 7,
   "metadata": {},
   "outputs": [
    {
     "data": {
      "image/png": "[encoded data removed]",
      "text/plain": [
       "<Figure size 432x288 with 1 Axes>"
      ]
     },
     "metadata": {
      "needs_background": "light"
     },
     "output_type": "display_data"
    }
   ],
   "source": [
    "t=np.array(t)\n",
    "RES=np.array(RES)\n",
    "### plotting\n",
    "pl.plot(t/365., RES, 'r')\n",
    "pl.show()"
   ]
  }
 ],
 "metadata": {
  "kernelspec": {
   "display_name": "Python 3",
   "language": "python",
   "name": "python3"
  },
  "language_info": {
   "codemirror_mode": {
    "name": "ipython",
    "version": 3
   },
   "file_extension": ".py",
   "mimetype": "text/x-python",
   "name": "python",
   "nbconvert_exporter": "python",
   "pygments_lexer": "ipython3",
   "version": "3.7.6"
  }
 },
 "nbformat": 4,
 "nbformat_minor": 4
}
