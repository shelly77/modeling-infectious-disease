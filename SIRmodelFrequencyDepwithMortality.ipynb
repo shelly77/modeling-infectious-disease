{
 "cells": [
  {
   "cell_type": "code",
   "execution_count": 1,
   "metadata": {},
   "outputs": [],
   "source": [
    "####################################################################\n",
    "###    This is the PYTHON version of program 2.4 from page 36 of   #\n",
    "### \"Modeling Infectious Disease in humans and animals\"            #\n",
    "### by Keeling & Rohani.\t\t\t\t\t\t\t\t\t\t   #\n",
    "###\t\t\t\t\t\t\t\t\t\t\t\t\t\t\t\t   #\n",
    "### It is the SIR model with a probability of mortality, and\t   #\n",
    "### unequal births and deaths. This code assumes Frequency-        #\n",
    "### Dependent Transmission        \t\t\t\t\t\t\t\t   #\n",
    "####################################################################"
   ]
  },
  {
   "cell_type": "code",
   "execution_count": null,
   "metadata": {},
   "outputs": [],
   "source": [
    "import scipy.integrate as spi\n",
    "import numpy as np\n",
    "import pylab as pl"
   ]
  },
  {
   "cell_type": "markdown",
   "metadata": {},
   "source": [
    "*rho is the mortality probability. The probability than an infected individual dies from the disease before recovering.\n",
    "*mu is the per capita death rate from natural causes\n",
    "*nu is the population level birth rate, we can equate ν/μ with the concept of a carrying capacity\n",
    "*beta is the transmission rate and incorporates the encounter rate between susceptible and infectious individuals together with the probability of transmission.\n",
    "*gamma is called the removal or recovery rate, though often we are more interested in its reciprocal (1/γ) which determines the average infectious period.\n",
    "*X0 is the initial number or density of susceptible individuals.\n",
    "*Y0 is the initial number or density of infectious individuals.\n",
    "*N0 is the initial population size"
   ]
  },
  {
   "cell_type": "code",
   "execution_count": null,
   "metadata": {},
   "outputs": [],
   "source": [
    "rho=0.5\n",
    "nu=mu=1/(70*365.0)\n",
    "beta=520/365.0\n",
    "gamma=1/7.0\n",
    "TS=1.0\n",
    "ND=1e5\n",
    "N0=1\n",
    "X0=0.2\n",
    "Y0=1e-4\n",
    "Z0=N0-X0-Y0\n",
    "INPUT = (X0, Y0, Z0)"
   ]
  },
  {
   "cell_type": "code",
   "execution_count": null,
   "metadata": {},
   "outputs": [],
   "source": [
    "def diff_eqs(INP,t):  \n",
    "\t'''The main set of equations'''\n",
    "\tY=np.zeros((3))\n",
    "\tV = INP    \n",
    "\tY[0] = mu - beta * V[0] * V[1] / sum(V) - mu * V[0]\n",
    "\tY[1] = beta * V[0] * V[1] / sum(V) - (gamma + mu) * V[1]/(1-rho)\n",
    "\tY[2] = gamma * V[1] - mu * V[2]\n",
    "\treturn Y   # For odeint"
   ]
  },
  {
   "cell_type": "code",
   "execution_count": null,
   "metadata": {},
   "outputs": [],
   "source": [
    "t_start = 0.0; t_end = ND; t_inc = TS\n",
    "t_range = np.arange(t_start, t_end+t_inc, t_inc)\n",
    "RES = spi.odeint(diff_eqs,INPUT,t_range)\n",
    "\n",
    "print(RES)"
   ]
  },
  {
   "cell_type": "code",
   "execution_count": null,
   "metadata": {},
   "outputs": [],
   "source": [
    "#Ploting\n",
    "pl.subplot(311)\n",
    "pl.plot(RES[:,0], '-g', label='Susceptibles')\n",
    "pl.title('Program_2_4.py')\n",
    "pl.xlabel('Time')\n",
    "pl.ylabel('Susceptibles')\n",
    "pl.subplot(312)\n",
    "pl.plot(RES[:,1], '-r', label='Infectious')\n",
    "pl.xlabel('Time')\n",
    "pl.ylabel('Infectious')\n",
    "pl.subplot(313)\n",
    "pl.plot(RES[:,2], '-k', label='Recovereds')\n",
    "pl.plot(sum((RES[:,0],RES[:,1],RES[:,2])), '--k', label='Total Population')\n",
    "pl.xlabel('Time')\n",
    "pl.legend(loc=0)\n",
    "pl.ylabel('Recovereds\\nTotal Population')\n",
    "pl.show()"
   ]
  }
 ],
 "metadata": {
  "kernelspec": {
   "display_name": "Python 3",
   "language": "python",
   "name": "python3"
  },
  "language_info": {
   "codemirror_mode": {
    "name": "ipython",
    "version": 3
   },
   "file_extension": ".py",
   "mimetype": "text/x-python",
   "name": "python",
   "nbconvert_exporter": "python",
   "pygments_lexer": "ipython3",
   "version": "3.7.6"
  }
 },
 "nbformat": 4,
 "nbformat_minor": 4
}
