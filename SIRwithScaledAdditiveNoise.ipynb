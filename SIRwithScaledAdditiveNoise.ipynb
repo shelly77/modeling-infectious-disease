{
 "cells": [
  {
   "cell_type": "code",
   "execution_count": 21,
   "metadata": {},
   "outputs": [],
   "source": [
    "####################################################################\n",
    "###    This is the PYTHON version of program 6.2 from page 197 of  #\n",
    "### \"Modeling Infectious Disease in humans and animals\"            #\n",
    "### by Keeling & Rohani.\t\t\t\t\t\t\t\t\t\t   #\n",
    "###\t\t\t\t\t\t\t\t\t\t\t\t\t\t\t\t   #\n",
    "### % It is the SIR epidemic model with constant additive noise    #\n",
    "### added all the various rates.\t\t\t\t\t\t\t\t   #\n",
    "### Given the difficulties in integrating the dynamics, the user   #\n",
    "### is prompted for a integration time-step.\t\t\t\t\t   #\n",
    "####################################################################"
   ]
  },
  {
   "cell_type": "code",
   "execution_count": 22,
   "metadata": {},
   "outputs": [],
   "source": [
    "import scipy.integrate as spi\n",
    "import numpy as np\n",
    "import pylab as pl"
   ]
  },
  {
   "cell_type": "markdown",
   "metadata": {},
   "source": [
    "*beta is the transmission rate and incorporates the encounter rate between susceptible and infectious individuals together with the probability of transmission.\n",
    "\n",
    "*ξi a set of six noise terms which are generated as a function of the time step.\n",
    "\n",
    "*gamma is called the removal or recovery rate, though often we are more interested in its reciprocal (1/γ) which determines the average infectious period.\n",
    "\n",
    "*mu is the per capita death rate.\n",
    "\n",
    "*νN is the birth rate, which is assumed to be constant and equal to μN; therefore preventing extinction of the host population.\n",
    "\n",
    "*X0 is the initial number or density of susceptible individuals.\n",
    "\n",
    "*Y0 is the initial number or density of infectious individuals.\n",
    "\n",
    "*N is the population size -- assumed to be constant."
   ]
  },
  {
   "cell_type": "code",
   "execution_count": 23,
   "metadata": {},
   "outputs": [],
   "source": [
    "beta=1.0;\n",
    "gamma=1/10.0;\n",
    "mu=1/(50*365.0);\n",
    "X0=1e5;\n",
    "Y0=500;\n",
    "N0=1e6;\n",
    "Step=1;\n",
    "ND=MaxTime=5*365.0;\n",
    "TS=1.0\n",
    "\n",
    "INPUT0=np.hstack((X0,Y0))"
   ]
  },
  {
   "cell_type": "code",
   "execution_count": 24,
   "metadata": {},
   "outputs": [],
   "source": [
    "def diff_eqs(INP,t):  \n",
    "\t'''The main set of equations'''\n",
    "\tY=np.zeros((2))\n",
    "\tV = INP     \n",
    "\tY[0] = (mu*N0 + np.sqrt(mu*N0)*P[0]) - (beta*V[0]*V[1]/N0 \\\n",
    "\t+ np.sqrt(beta*V[0]*V[1]/N0)*P[1])\t- (mu*V[1] + np.sqrt(mu*V[1])*P[2]);\n",
    "\tY[1] = (beta*V[0]*V[1]/N0 + np.sqrt(beta*V[0]*V[1]/N0)*P[1]) - \\\n",
    "\t(gamma*V[1] + np.sqrt(gamma*V[1])*P[3]) - (mu*V[1] + np.sqrt(mu*V[1])*P[4]);\n",
    "\treturn Y   # For odeint"
   ]
  },
  {
   "cell_type": "code",
   "execution_count": 25,
   "metadata": {},
   "outputs": [],
   "source": [
    "T=np.zeros((int(np.ceil(ND/Step)),1))\n",
    "RES=np.zeros((int(np.ceil(ND/Step)),2))\n",
    "INPUT=INPUT0\n",
    "t=0\n",
    "loop=0\n",
    "sqrtStep=np.sqrt(Step)"
   ]
  },
  {
   "cell_type": "code",
   "execution_count": 26,
   "metadata": {},
   "outputs": [
    {
     "name": "stdout",
     "output_type": "stream",
     "text": [
      "[[ 99998.8389641     506.40795984]\n",
      " [100000.66858959    508.53446372]\n",
      " [ 99998.65564051    524.55167608]\n",
      " ...\n",
      " [ 98994.53357281    373.22701848]\n",
      " [ 99018.84535501    359.90127422]\n",
      " [ 99036.83339972    338.28945245]]\n"
     ]
    }
   ],
   "source": [
    "while t<ND and INPUT[0]>0 and INPUT[1]>0:\n",
    "\tt_start = 0.0; t_end = t_start+Step; t_inc = TS\n",
    "\tt_range = np.arange(t_start, t_end+t_inc, t_inc)\n",
    "\tP=np.random.normal(size=5)/sqrtStep\n",
    "\tPRES = spi.odeint(diff_eqs,INPUT,t_range)\n",
    "\tT[loop]=t=t+Step\n",
    "\tINPUT=PRES[-1]\n",
    "\tRES[loop]=PRES[-1]\n",
    "\tloop += 1\n",
    "\n",
    "print(RES)"
   ]
  },
  {
   "cell_type": "code",
   "execution_count": 27,
   "metadata": {},
   "outputs": [
    {
     "data": {
      "image/png": "[encoded data removed]",
      "text/plain": [
       "<Figure size 432x288 with 2 Axes>"
      ]
     },
     "metadata": {
      "needs_background": "light"
     },
     "output_type": "display_data"
    }
   ],
   "source": [
    "### plotting\n",
    "pl.subplot(211)\n",
    "pl.plot(T/365., RES[:,0], '.-g')\n",
    "pl.xlabel('Time (Years)')\n",
    "pl.ylabel('Susceptibles')\n",
    "pl.subplot(212)\n",
    "pl.plot(T/365., RES[:,1], '.-r')\n",
    "pl.ylabel('Infected')\n",
    "pl.xlabel('Time (Years)')\n",
    "\n",
    "pl.show()"
   ]
  }
 ],
 "metadata": {
  "kernelspec": {
   "display_name": "Python 3",
   "language": "python",
   "name": "python3"
  },
  "language_info": {
   "codemirror_mode": {
    "name": "ipython",
    "version": 3
   },
   "file_extension": ".py",
   "mimetype": "text/x-python",
   "name": "python",
   "nbconvert_exporter": "python",
   "pygments_lexer": "ipython3",
   "version": "3.7.6"
  }
 },
 "nbformat": 4,
 "nbformat_minor": 4
}
