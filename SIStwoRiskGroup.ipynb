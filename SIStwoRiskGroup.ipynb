{
 "cells": [
  {
   "cell_type": "code",
   "execution_count": 9,
   "metadata": {},
   "outputs": [],
   "source": [
    "####################################################################\n",
    "###    This is the PYTHON version of program 3.1 from page 58 of   #\n",
    "### \"Modeling Infectious Disease in humans and animals\"            #\n",
    "### by Keeling & Rohani.\t\t\t\t\t\t\t\t\t\t   #\n",
    "###\t\t\t\t\t\t\t\t\t\t\t\t\t\t\t\t   #\n",
    "### It is the SIS model with two different risk-groups.\t\t\t   #\n",
    "####################################################################"
   ]
  },
  {
   "cell_type": "code",
   "execution_count": 10,
   "metadata": {},
   "outputs": [],
   "source": [
    "import scipy.integrate as spi\n",
    "import numpy as np\n",
    "import pylab as pl"
   ]
  },
  {
   "cell_type": "markdown",
   "metadata": {},
   "source": [
    "*beta is the matrix of transmission rates and incorporates the encounter rate between susceptible and infectious individuals together with the probability of transmission.\n",
    "\n",
    "*gamma is called the removal or recovery rate, though often we are more interested in its reciprocal (1/γ) which determines the average infectious period.\n",
    "\n",
    "*nH is the proportion of the population that are in the high risk group\n",
    "\n",
    "*IH is the initial proportion of the population that are both infectious and in the high risk group.\n",
    "\n",
    "*IL is the initial proportion of the population that are both infectious and in the low risk group."
   ]
  },
  {
   "cell_type": "code",
   "execution_count": 11,
   "metadata": {},
   "outputs": [],
   "source": [
    "beta=[10., 0.1, 0.1, 1.]\n",
    "gamma=1.0\n",
    "nH=0.2\n",
    "IH=1e-5\n",
    "IL=1e-3\n",
    "nT=1.0\n",
    "nL=nT-nH\n",
    "SH=nH-IH\n",
    "SL=nL-IL\n",
    "ND=15.\n",
    "TS=1.0\n",
    "INPUT = (SH,IH,SL,IL)"
   ]
  },
  {
   "cell_type": "code",
   "execution_count": 12,
   "metadata": {},
   "outputs": [
    {
     "name": "stdout",
     "output_type": "stream",
     "text": [
      "[[1.99990000e-01 1.00000000e-05 7.99000000e-01 1.00000000e-03]\n",
      " [1.99941123e-01 5.88772449e-05 7.99179728e-01 8.20271892e-04]\n",
      " [1.99814089e-01 1.85910557e-04 7.99320639e-01 6.79360917e-04]\n",
      " [1.99474560e-01 5.25439526e-04 7.99419957e-01 5.80043256e-04]\n",
      " [1.98565635e-01 1.43436536e-03 7.99458590e-01 5.41409647e-04]\n",
      " [1.96176296e-01 3.82370419e-03 7.99377200e-01 6.22799640e-04]\n",
      " [1.90224201e-01 9.77579899e-03 7.99021914e-01 9.78085905e-04]\n",
      " [1.77213697e-01 2.27863031e-02 7.98060594e-01 1.93940634e-03]\n",
      " [1.55434749e-01 4.45652512e-02 7.96005254e-01 3.99474600e-03]\n",
      " [1.31322917e-01 6.86770831e-02 7.92634422e-01 7.36557806e-03]\n",
      " [1.14281401e-01 8.57185993e-02 7.88445779e-01 1.15542207e-02]\n",
      " [1.05672717e-01 9.43272829e-02 7.84247161e-01 1.57528392e-02]\n",
      " [1.02044492e-01 9.79555078e-02 7.80548020e-01 1.94519801e-02]\n",
      " [1.00624879e-01 9.93751206e-02 7.77502572e-01 2.24974279e-02]\n",
      " [1.00078652e-01 9.99213478e-02 7.75080421e-01 2.49195793e-02]\n",
      " [9.98643552e-02 1.00135645e-01 7.73188498e-01 2.68115018e-02]]\n"
     ]
    }
   ],
   "source": [
    "def diff_eqs(INP,t):  \n",
    "\t'''The main set of equations'''\n",
    "\tY=np.zeros((4))\n",
    "\tV = INP   \n",
    "\tY[0] = - (beta[0] * V[1] + beta[1] * V[3]) * V[0] + gamma * V[1]\n",
    "\tY[1] = (beta[0] * V[1] + beta[1] * V[3]) * V[0] - gamma * V[1]\n",
    "\tY[2] = - (beta[2] * V[1] + beta[3] * V[3]) * V[2] + gamma * V[3]\n",
    "\tY[3] = (beta[2] * V[1] + beta[3] * V[3]) * V[2] - gamma * V[3]\n",
    "\treturn Y   # For odeint\n",
    "\n",
    "t_start = 0.0; t_end = ND; t_inc = TS\n",
    "t_range = np.arange(t_start, t_end+t_inc, t_inc)\n",
    "RES = spi.odeint(diff_eqs,INPUT,t_range)\n",
    "\n",
    "print(RES)\n"
   ]
  },
  {
   "cell_type": "code",
   "execution_count": 13,
   "metadata": {},
   "outputs": [
    {
     "data": {
      "image/png": "[encoded data removed]",
      "text/plain": [
       "<Figure size 432x288 with 2 Axes>"
      ]
     },
     "metadata": {
      "needs_background": "light"
     },
     "output_type": "display_data"
    }
   ],
   "source": [
    "#Ploting\n",
    "pl.subplot(211)\n",
    "pl.plot(RES[:,1], '-r', label='High Risk')\n",
    "pl.plot(RES[:,3], '--r', label='Low Risk')\n",
    "pl.legend(loc=0)\n",
    "pl.title('Program_3_1.py')\n",
    "pl.xlabel('Time')\n",
    "pl.ylabel('Infectious')\n",
    "pl.subplot(212)\n",
    "pl.semilogy(RES[:,1], '-r', label='High Risk') #Make the plot with log scaling on the y axis.\n",
    "pl.semilogy(RES[:,3], '--r', label='Low Risk')#Make the plot with log scaling on the y axis.\n",
    "pl.legend(loc=0)\n",
    "pl.xlabel('Time')\n",
    "pl.ylabel('Infectious')\n",
    "pl.show()"
   ]
  }
 ],
 "metadata": {
  "kernelspec": {
   "display_name": "Python 3",
   "language": "python",
   "name": "python3"
  },
  "language_info": {
   "codemirror_mode": {
    "name": "ipython",
    "version": 3
   },
   "file_extension": ".py",
   "mimetype": "text/x-python",
   "name": "python",
   "nbconvert_exporter": "python",
   "pygments_lexer": "ipython3",
   "version": "3.7.6"
  }
 },
 "nbformat": 4,
 "nbformat_minor": 4
}
