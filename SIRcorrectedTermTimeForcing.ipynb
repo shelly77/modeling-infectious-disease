{
 "cells": [
  {
   "cell_type": "code",
   "execution_count": 41,
   "metadata": {},
   "outputs": [],
   "source": [
    "####################################################################\n",
    "###    This is the PYTHON version of program 5.2 from page 171 of  #\n",
    "### \"Modeling Infectious Disease in humans and animals\"            #\n",
    "### by Keeling & Rohani.\t\t\t\t\t\t\t\t\t\t   #\n",
    "###\t\t\t\t\t\t\t\t\t\t\t\t\t\t\t\t   #\n",
    "### It is the simple SIR epidemic with corrected term-time         #\n",
    "### forcing of the transmission rate.\t\t\t\t\t\t\t   #\n",
    "### Note: setting beta1 too high can cause numerical difficulties. #\n",
    "####################################################################"
   ]
  },
  {
   "cell_type": "code",
   "execution_count": 42,
   "metadata": {},
   "outputs": [],
   "source": [
    "import scipy.integrate as spi\n",
    "import numpy as np\n",
    "import pylab as pl"
   ]
  },
  {
   "cell_type": "markdown",
   "metadata": {},
   "source": [
    "*Beta0 is the mean transmission rate.\n",
    "\n",
    "*Beta1 is the amplitude of term-time forcing.\n",
    "\n",
    "*mu is the per capita death rate, and the population level birth rate.\n",
    "\n",
    "*gamma is called the removal or recovery rate, though often we are more interested in its reciprocal (1/γ) which determines the average infectious period.\n",
    "\n",
    "*S0 is the initial proportion of the population that are susceptible.\n",
    "\n",
    "*I0 is the initial proportion of the population that are infectious."
   ]
  },
  {
   "cell_type": "code",
   "execution_count": 43,
   "metadata": {},
   "outputs": [],
   "source": [
    "Beta0=17/13.;\n",
    "Beta1=([0.25]);\n",
    "gamma=1/13.0;\n",
    "mu=1/(50*365.0);\n",
    "S0=1/17.;\n",
    "I0=1e-4;\n",
    "Years=10;\n",
    "MaxTime=365.;\n",
    "TS=1.0"
   ]
  },
  {
   "cell_type": "code",
   "execution_count": 44,
   "metadata": {},
   "outputs": [],
   "source": [
    "def term(t):\n",
    "\tt=np.mod(t,365)\n",
    "\tif t < 6 or t > 100 and t < 115 or t > 200 and t < 251 or t > 300 and t < 307 or t > 356 and t <= 365:\n",
    "\t\tTerm = -1\n",
    "\telse:\n",
    "\t\tTerm = 1\n",
    "\treturn Term"
   ]
  },
  {
   "cell_type": "code",
   "execution_count": 45,
   "metadata": {},
   "outputs": [],
   "source": [
    "### This code can also be used to generate bifurcation diagrams, by setting\n",
    "### beta1 equal to a vector of seasonality rates. The bifurcation diagram is\n",
    "### constructed using extrapolated initial conditions. Try:\n",
    "#(Beta0,Beta1,gamma,mu,S0,I0,Years, MaxTime)=(17/13.,np.arange(0.00,0.301,0.001),1/13.,1./(50*365),1/17.,1e-4,20,365.)"
   ]
  },
  {
   "cell_type": "code",
   "execution_count": 46,
   "metadata": {},
   "outputs": [],
   "source": [
    "ND=Years*MaxTime\n",
    "INPUT=np.array((S0,I0, 1-S0-I0))"
   ]
  },
  {
   "cell_type": "code",
   "execution_count": 47,
   "metadata": {},
   "outputs": [],
   "source": [
    "def diff_eqs(INP,t):  \n",
    "\t'''The main set of equations'''\n",
    "\tY=np.zeros((3))\n",
    "\tV = INP   \n",
    "\tbeta=beta0-beta1\n",
    "\tY[0] = mu - beta*V[0]*V[1] - mu*V[0]\n",
    "\tY[1] = beta*V[0]*V[1] - mu*V[1] - gamma*V[1]\n",
    "\tY[2] = gamma * V[1] - mu * V[2]\n",
    "\treturn Y   # For odeint"
   ]
  },
  {
   "cell_type": "code",
   "execution_count": 48,
   "metadata": {},
   "outputs": [],
   "source": [
    "def diff_eqs2(INP,t):  \n",
    "\t'''The main set of equations'''\n",
    "\tY=np.zeros((3))\n",
    "\tV = INP   \n",
    "\tbeta=beta0+beta1\n",
    "\tY[0] = mu - beta*V[0]*V[1] - mu*V[0]\n",
    "\tY[1] = beta*V[0]*V[1] - mu*V[1] - gamma*V[1]\n",
    "\tY[2] = gamma * V[1] - mu * V[2]\n",
    "\treturn Y   # For odeint"
   ]
  },
  {
   "cell_type": "code",
   "execution_count": 49,
   "metadata": {},
   "outputs": [],
   "source": [
    "def FORCED_ODE(diff_eqs,INPUT, beta0, beta1):\n",
    "\t'''Calculates the differential rates used in the integration.'''\n",
    "\tRES=np.zeros((3))\n",
    "\tfor Year in range(Years):\n",
    "        \n",
    "\t\tt_start =  Year*365.+1; t_end = Year*365.+6.; t_inc = TS\n",
    "\t\tt_range = np.arange(t_start, t_end+t_inc, t_inc)\n",
    "\t\tRES2=spi.odeint(diff_eqs,INPUT,t_range)\n",
    "\t\tRES=np.vstack((RES,RES2))\n",
    "\t\tINPUT=RES2[-1]\n",
    "        \n",
    "\t\tt_start =  Year*365.+7; t_end = Year*365.+100; t_inc = TS\n",
    "\t\tt_range = np.arange(t_start, t_end+t_inc, t_inc)\n",
    "\t\tRES2=spi.odeint(diff_eqs2,INPUT,t_range)\n",
    "\t\tRES=np.vstack((RES,RES2))\n",
    "\t\tINPUT=RES2[-1]\n",
    "        \n",
    "\t\tt_start = Year*365.+101; t_end = Year*365.+115; t_inc = TS\n",
    "\t\tt_range = np.arange(t_start, t_end+t_inc, t_inc)\n",
    "\t\tRES2=spi.odeint(diff_eqs,INPUT,t_range)\n",
    "\t\tRES=np.vstack((RES,RES2))\n",
    "        \n",
    "\t\tINPUT=RES2[-1]\n",
    "\t\tt_start = Year*365.+116; t_end = Year*365.+200; t_inc = TS\n",
    "\t\tt_range = np.arange(t_start, t_end+t_inc, t_inc)\n",
    "\t\tRES2=spi.odeint(diff_eqs2,INPUT,t_range)\n",
    "\t\tRES=np.vstack((RES,RES2))\n",
    "        \n",
    "\t\tINPUT=RES2[-1]\n",
    "\t\tt_start = Year*365.+201; t_end = Year*365.+251; t_inc = TS\n",
    "\t\tt_range = np.arange(t_start, t_end+t_inc, t_inc)\n",
    "\t\tRES2=spi.odeint(diff_eqs,INPUT,t_range)\n",
    "\t\tRES=np.vstack((RES,RES2))\n",
    "        \n",
    "\t\tINPUT=RES2[-1]\n",
    "\t\tt_start = Year*365.+252; t_end = Year*365.+300; t_inc = TS\n",
    "\t\tt_range = np.arange(t_start, t_end+t_inc, t_inc)\n",
    "\t\tRES2=spi.odeint(diff_eqs2,INPUT,t_range)\n",
    "\t\tRES=np.vstack((RES,RES2))\n",
    "        \n",
    "\t\tINPUT=RES2[-1]\n",
    "\t\tt_start = Year*365.+301; t_end = Year*365.+307; t_inc = TS\n",
    "\t\tt_range = np.arange(t_start, t_end+t_inc, t_inc)\n",
    "\t\tRES2=spi.odeint(diff_eqs,INPUT,t_range)\n",
    "\t\tRES=np.vstack((RES,RES2))\n",
    "        \n",
    "\t\tINPUT=RES2[-1]\n",
    "\t\tt_start = Year*365.+308; t_end = Year*365.+356; t_inc = TS\n",
    "\t\tt_range = np.arange(t_start, t_end+t_inc, t_inc)\n",
    "\t\tRES2=spi.odeint(diff_eqs2,INPUT,t_range)\n",
    "\t\tRES=np.vstack((RES,RES2))\n",
    "        \n",
    "\t\tINPUT=RES2[-1]\n",
    "\t\tt_start = Year*365.+357; t_end = Year*365.+365; t_inc = TS\n",
    "\t\tt_range = np.arange(t_start, t_end+t_inc, t_inc)\n",
    "\t\tRES2=spi.odeint(diff_eqs,INPUT,t_range)\n",
    "\t\tRES=np.vstack((RES,RES2))\n",
    "        \n",
    "\t\tINPUT=RES2[-1]\n",
    "\tINPUT = RES[-1]\t\n",
    "\treturn RES"
   ]
  },
  {
   "cell_type": "code",
   "execution_count": 50,
   "metadata": {},
   "outputs": [
    {
     "name": "stdout",
     "output_type": "stream",
     "text": [
      "1.1578112609040443 0.25\n",
      "[[0.00000000e+00 0.00000000e+00 0.00000000e+00]\n",
      " [5.88235294e-02 1.00000000e-04 9.41076471e-01]\n",
      " [5.88698186e-02 9.76713186e-05 9.41032510e-01]\n",
      " ...\n",
      " [6.03392014e-02 5.87773487e-04 9.39073025e-01]\n",
      " [6.03588433e-02 5.74873348e-04 9.39066283e-01]\n",
      " [6.03791721e-02 5.62266403e-04 9.39058562e-01]]\n"
     ]
    },
    {
     "data": {
      "image/png": "[encoded data removed]",
      "text/plain": [
       "<Figure size 432x288 with 3 Axes>"
      ]
     },
     "metadata": {
      "needs_background": "light"
     },
     "output_type": "display_data"
    }
   ],
   "source": [
    "if len(Beta1)==1:\n",
    "\tbeta1=Beta1[0]\n",
    "\n",
    "\t### Calculate Average Effect of Forcing and Correct for it.\n",
    "\tAve=0;\n",
    "\tfor t in np.arange(1,366):\n",
    "\t\tAve+=(1+beta1*term(t+0.5))\n",
    "\tbeta0=Beta0/(Ave/365)\n",
    "\tprint(beta0, beta1)\n",
    "\tt_start = 0.0; t_end = ND; t_inc = TS\n",
    "\tt_range = np.arange(t_start, t_end+t_inc, t_inc)\n",
    "\tRES = FORCED_ODE(diff_eqs,INPUT, beta0, beta1)\n",
    "\n",
    "\tprint(RES)\n",
    "\n",
    "\tt=(np.arange(ND)/365.)\n",
    "\t#Ploting\n",
    "\tpl.subplot(311)\n",
    "\tpl.plot(t,RES[1:,0], 'g', label='S')\n",
    "\tpl.xlabel ('Time (years)')\n",
    "\tpl.ylabel ('Susceptibles')\n",
    "\tpl.subplot(312)\n",
    "\tpl.plot(t,RES[1:,1], 'r', label='I')\n",
    "\tpl.xlabel ('Time (years)')\n",
    "\tpl.ylabel ('Infectious')\n",
    "\tpl.subplot(313)\n",
    "\tpl.plot(t,1-(RES[1:,0]+RES[1:,1]), 'k', label='R')\n",
    "\tpl.xlabel ('Time (years)')\n",
    "\tpl.ylabel ('Recovereds')\n",
    "\n",
    "else:\n",
    "\tif ND < 3650:\n",
    "\t\tND = 3650\n",
    "\t\t\n",
    "\tBifur_I=np.zeros((len(Beta1),10))\n",
    "\t\n",
    "\tfor i in range(len(Beta1)):\n",
    "\t\tbeta1 = Beta1[i]\n",
    "\t\t### Calculate Average Effect of Forcing and Correct for it.\n",
    "\t\tAve=0;\n",
    "\t\tfor t in np.arange(1,366):\n",
    "\t\t\tAve+=(1+beta1*term(t+0.5))\n",
    "\t\tbeta0=Beta0/(Ave/365)\n",
    "\n",
    "\t\tt_start = 0.0; t_end = ND; t_inc = TS\n",
    "\t\tt_range = np.arange(t_start, t_end+t_inc, t_inc)\n",
    "\t\tRES = FORCED_ODE(diff_eqs,INPUT,beta0, beta1)\n",
    "\t\tINPUT=RES[-1]\n",
    "\t\t\n",
    "\n",
    "\t\tfor j in range(10):\n",
    "\t\t\tBifur_I[i,j]=RES[np.arange(ND)[((ND-j*365.)-1)],1]\n",
    "\t\t\t\n",
    "\tpl.plot (Beta1, np.log10(Bifur_I), '.k')\n",
    "\t### if TeX commands do not work comment the next line\n",
    "\tpl.xlabel (r'Seasonality, $\\beta_1$')\n",
    "\tpl.ylabel (r'Level of Infection $(log_{10})$')\n",
    "\t### if TeX commands do not work uncomment the next line\n",
    "#\tpl.xlabel ('Seasonality, beta1')\n",
    "#\tpl.ylabel ('Level of Infection (log_10)')\n",
    "pl.show()"
   ]
  }
 ],
 "metadata": {
  "kernelspec": {
   "display_name": "Python 3",
   "language": "python",
   "name": "python3"
  },
  "language_info": {
   "codemirror_mode": {
    "name": "ipython",
    "version": 3
   },
   "file_extension": ".py",
   "mimetype": "text/x-python",
   "name": "python",
   "nbconvert_exporter": "python",
   "pygments_lexer": "ipython3",
   "version": "3.7.6"
  }
 },
 "nbformat": 4,
 "nbformat_minor": 4
}
