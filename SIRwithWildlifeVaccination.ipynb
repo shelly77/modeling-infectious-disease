{
 "cells": [
  {
   "cell_type": "code",
   "execution_count": 1,
   "metadata": {},
   "outputs": [],
   "source": [
    "####################################################################\n",
    "###    This is the PYTHON version of program 8.2 from page 296 of  #\n",
    "### \"Modeling Infectious Disease in humans and animals\"            #\n",
    "### by Keeling & Rohani.\t\t\t\t\t\t\t\t\t\t   #\n",
    "###\t\t\t\t\t\t\t\t\t\t\t\t\t\t\t\t   #\n",
    "### It is the SIR epidemic (with equal births and deaths) and      #\n",
    "### random vaccination. Vaccination starts at time tV, after which #\n",
    "### susceptible individuals are vaccinated at rate v               #\n",
    "####################################################################\n"
   ]
  },
  {
   "cell_type": "code",
   "execution_count": 2,
   "metadata": {},
   "outputs": [],
   "source": [
    "import scipy.integrate as spi\n",
    "import numpy as np\n",
    "import pylab as pl"
   ]
  },
  {
   "cell_type": "markdown",
   "metadata": {},
   "source": [
    "*v is the rate of random vaccination.\n",
    "\n",
    "*beta is the transmission rate and incorporates the encounter rate between susceptible and infectious individuals together with the probability of transmission.\n",
    "\n",
    "*gamma is called the removal or recovery rate, though often we are more interested in its reciprocal (1/γ) which determines the average infectious period.\n",
    "\n",
    "*nu is the over-all birth set. We set ν=μ to keep the population size constant.\n",
    "\n",
    "*mu is the per captia death rate.\n",
    "\n",
    "*tV\tis the time at which the vaccination program is begun.\n",
    "\n",
    "*S0 is the initial proportion of the population that are susceptible.\n",
    "\n",
    "*I0 is the initial proportion of the population that are infectious."
   ]
  },
  {
   "cell_type": "code",
   "execution_count": 3,
   "metadata": {},
   "outputs": [],
   "source": [
    "beta=520/365.0;\n",
    "gamma=1/7.0;\n",
    "mu=1/(10*365.0);\n",
    "S0=0.1;\n",
    "I0=2e-3;\n",
    "v0=0.002;\n",
    "tV=5*365;\n",
    "ND=MaxTime=20*365;\n",
    "TS=1.0\n",
    "R0=1-S0-I0\n",
    "\n",
    "INPUT = np.hstack((S0,I0,R0))"
   ]
  },
  {
   "cell_type": "code",
   "execution_count": 4,
   "metadata": {},
   "outputs": [],
   "source": [
    "def diff_eqs(INP,t):  \n",
    "\t'''The main set of equations'''\n",
    "\tY=np.zeros((3))\n",
    "\tV = INP   \n",
    "\tY[0]= mu - beta*V[0]*V[1] - mu*V[0] - v * V[0]\n",
    "\tY[1]= beta*V[0]*V[1] - gamma*V[1] - mu*V[1]\n",
    "\tY[2]= v * V[0] + gamma*V[1] - mu*V[2]\n",
    "\treturn Y   # For odeint"
   ]
  },
  {
   "cell_type": "code",
   "execution_count": 5,
   "metadata": {},
   "outputs": [
    {
     "name": "stdout",
     "output_type": "stream",
     "text": [
      "[[1.00427638e-01 1.70076755e-03 8.97871594e-01]\n",
      " [1.00230410e-01 1.70042162e-03 8.98069168e-01]\n",
      " [1.00034164e-01 1.69961080e-03 8.98266226e-01]\n",
      " ...\n",
      " [1.00473344e-01 3.18170264e-04 8.99208485e-01]\n",
      " [1.00473300e-01 3.18173113e-04 8.99208527e-01]\n",
      " [1.00473256e-01 3.18175942e-04 8.99208568e-01]]\n"
     ]
    }
   ],
   "source": [
    "t_start = 0.0; t_end = tV; t_inc = TS\n",
    "t_range1 = np.arange(t_start, t_end+t_inc, t_inc)\n",
    "t_start = tV; t_end = ND; t_inc = TS\n",
    "t_range2 = np.arange(tV, t_end+t_inc, t_inc)\n",
    "T = np.hstack((t_range1, t_range2))\n",
    "v=0\n",
    "RES1 = spi.odeint(diff_eqs,INPUT,t_range1)\n",
    "v=v0\n",
    "RES2 = spi.odeint(diff_eqs,RES1[-1],t_range2)\n",
    "print(RES2)"
   ]
  },
  {
   "cell_type": "code",
   "execution_count": 6,
   "metadata": {},
   "outputs": [],
   "source": [
    "S = np.hstack((RES1[:,0],RES2[:,0]))\n",
    "I = np.hstack((RES1[:,1],RES2[:,1]))\n",
    "R = np.hstack((RES1[:,2],RES2[:,2]))"
   ]
  },
  {
   "cell_type": "code",
   "execution_count": 7,
   "metadata": {},
   "outputs": [
    {
     "data": {
      "image/png": "[encoded data removed]",
      "text/plain": [
       "<Figure size 432x288 with 3 Axes>"
      ]
     },
     "metadata": {
      "needs_background": "light"
     },
     "output_type": "display_data"
    }
   ],
   "source": [
    "pl.subplot(311)\n",
    "pl.plot(T[1:,]/365.0, S[1:,], '-g')\n",
    "ll=pl.ylim()\n",
    "tVV=np.repeat([tV/365.],len(ll))\n",
    "pl.plot(tVV, ll, '--k')\n",
    "pl.subplots_adjust(hspace=1)\n",
    "pl.ylabel('Susceptibles')\n",
    "pl.subplot(312)\n",
    "pl.plot(T[1:,]/365.0, I[1:,], '-r')\n",
    "ll=pl.ylim()\n",
    "tVV=np.repeat([tV/365.],len(ll))\n",
    "pl.plot(tVV, ll, '--k')\n",
    "pl.ylabel('Infectious')\n",
    "pl.subplot(313)\n",
    "pl.plot(T[1:,]/365.0, R[1:,], '-k')\n",
    "ll=pl.ylim()\n",
    "tVV=np.repeat([tV/365.],len(ll))\n",
    "pl.plot(tVV, ll, '--k')\n",
    "pl.ylabel('Recovereds/Vaccinated')\n",
    "pl.xlabel('Time (Years)')\n",
    "\n",
    "pl.show()"
   ]
  }
 ],
 "metadata": {
  "kernelspec": {
   "display_name": "Python 3",
   "language": "python",
   "name": "python3"
  },
  "language_info": {
   "codemirror_mode": {
    "name": "ipython",
    "version": 3
   },
   "file_extension": ".py",
   "mimetype": "text/x-python",
   "name": "python",
   "nbconvert_exporter": "python",
   "pygments_lexer": "ipython3",
   "version": "3.7.6"
  }
 },
 "nbformat": 4,
 "nbformat_minor": 4
}
