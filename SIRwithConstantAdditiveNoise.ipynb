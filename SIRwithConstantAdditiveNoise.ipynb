{
 "cells": [
  {
   "cell_type": "code",
   "execution_count": 58,
   "metadata": {},
   "outputs": [],
   "source": [
    "####################################################################\n",
    "###    This is the PYTHON version of program 6.1 from page 194 of  #\n",
    "### \"Modeling Infectious Disease in humans and animals\"            #\n",
    "### by Keeling & Rohani.\t\t\t\t\t\t\t\t\t\t   #\n",
    "###\t\t\t\t\t\t\t\t\t\t\t\t\t\t\t\t   #\n",
    "### % It is the SIR epidemic model with constant additive noise    #\n",
    "### added to the transmission rate.\t\t\t\t\t\t\t\t   #\n",
    "### Given the difficulties in integrating the dynamics, the user   #\n",
    "### is prompted for a integration time-step.\t\t\t\t\t   #\n",
    "####################################################################"
   ]
  },
  {
   "cell_type": "markdown",
   "metadata": {},
   "source": [
    "*beta is the transmission rate and incorporates the encounter rate between susceptible and infectious individuals together with the probability of transmission.\n",
    "\n",
    "*f amount of noise experienced in the transmission term.\n",
    "\n",
    "*ξ noise term which is generated as a function of the time step.\n",
    "\n",
    "*gamma is called the removal or recovery rate, though often we are more interested in its reciprocal (1/γ) which determines the average infectious period.\n",
    "\n",
    "*mu is the per capita birth and death rate.\n",
    "\n",
    "*X0 is the initial number or density of susceptible individuals.\n",
    "\n",
    "*Y0 is the initial number or density of infectious individuals.\n",
    "\n",
    "*N is the population size -- assumed to be constant."
   ]
  },
  {
   "cell_type": "code",
   "execution_count": 59,
   "metadata": {},
   "outputs": [],
   "source": [
    "import scipy.integrate as spi\n",
    "import numpy as np\n",
    "import pylab as pl"
   ]
  },
  {
   "cell_type": "code",
   "execution_count": 60,
   "metadata": {},
   "outputs": [],
   "source": [
    "beta=1.0;\n",
    "noise=20;\n",
    "gamma=1/10.0;\n",
    "mu=1/(50*365.0);\n",
    "X0=1e5;\n",
    "Y0=500;\n",
    "N0=1e6;\n",
    "Step=1;\n",
    "ND=MaxTime=5*365.0;\n",
    "TS=1.0"
   ]
  },
  {
   "cell_type": "code",
   "execution_count": 61,
   "metadata": {},
   "outputs": [],
   "source": [
    "INPUT0=np.hstack((X0,Y0))"
   ]
  },
  {
   "cell_type": "code",
   "execution_count": 62,
   "metadata": {},
   "outputs": [],
   "source": [
    "def diff_eqs(INP,t):  \n",
    "\t'''The main set of equations'''\n",
    "\tY=np.zeros((2))\n",
    "\tV = INP     \n",
    "\tY[0] = mu * N0 - beta*V[0]*V[1]/N0 - Noise - mu*V[1]\n",
    "\tY[1] = beta*V[0]*V[1]/N0 + Noise -  mu*V[1] - gamma*V[1]\n",
    "\treturn Y   # For odeint\n"
   ]
  },
  {
   "cell_type": "code",
   "execution_count": 63,
   "metadata": {},
   "outputs": [
    {
     "name": "stdout",
     "output_type": "stream",
     "text": [
      "[[99991.43614433   512.66938093]\n",
      " [99957.82969121   547.97961624]\n",
      " [99966.25312247   539.89729303]\n",
      " ...\n",
      " [    0.             0.        ]\n",
      " [    0.             0.        ]\n",
      " [    0.             0.        ]]\n"
     ]
    }
   ],
   "source": [
    "T=np.zeros((int(np.ceil(ND/Step)),1))\n",
    "RES=np.zeros((int(np.ceil(ND/Step)),2))\n",
    "INPUT=INPUT0\n",
    "t=0\n",
    "loop=0\n",
    "\n",
    "while t<ND and INPUT[0]>0 and INPUT[1]>0:\n",
    "\tt_start = 0.0; t_end = t_start+Step; t_inc = TS\n",
    "\tt_range = np.arange(t_start, t_end+t_inc, t_inc)\n",
    "\tsqrtStep=np.sqrt(Step)\n",
    "\tNoise=noise* np.random.normal(size=1)/sqrtStep\n",
    "\tPRES = spi.odeint(diff_eqs,INPUT,t_range)\n",
    "\tT[loop]=t=t+Step\n",
    "\tINPUT=PRES[-1]\n",
    "\tRES[loop]=PRES[-1]\n",
    "\tloop += 1\n",
    "\n",
    "print(RES)"
   ]
  },
  {
   "cell_type": "code",
   "execution_count": 64,
   "metadata": {},
   "outputs": [
    {
     "data": {
      "image/png": "[encoded data removed]",
      "text/plain": [
       "<Figure size 432x288 with 2 Axes>"
      ]
     },
     "metadata": {
      "needs_background": "light"
     },
     "output_type": "display_data"
    }
   ],
   "source": [
    "### plotting\n",
    "pl.subplot(211)\n",
    "pl.plot(T/365., RES[:,0], '.-g')\n",
    "pl.xlabel('Time (Years)')\n",
    "pl.ylabel('Susceptibles')\n",
    "pl.subplot(212)\n",
    "pl.plot(T/365., RES[:,1], '.-r')\n",
    "pl.ylabel('Infected')\n",
    "pl.xlabel('Time (Years)')\n",
    "\n",
    "pl.show()"
   ]
  },
  {
   "cell_type": "code",
   "execution_count": null,
   "metadata": {},
   "outputs": [],
   "source": []
  }
 ],
 "metadata": {
  "kernelspec": {
   "display_name": "Python 3",
   "language": "python",
   "name": "python3"
  },
  "language_info": {
   "codemirror_mode": {
    "name": "ipython",
    "version": 3
   },
   "file_extension": ".py",
   "mimetype": "text/x-python",
   "name": "python",
   "nbconvert_exporter": "python",
   "pygments_lexer": "ipython3",
   "version": "3.7.6"
  }
 },
 "nbformat": 4,
 "nbformat_minor": 4
}
