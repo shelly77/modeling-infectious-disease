{
 "cells": [
  {
   "cell_type": "code",
   "execution_count": 1,
   "metadata": {},
   "outputs": [],
   "source": [
    "####################################################################\n",
    "###    This is the PYTHON version of program 2.5 from page 39 of   #\n",
    "### \"Modeling Infectious Disease in humans and animals\"            #\n",
    "### by Keeling & Rohani.\t\t\t\t\t\t\t\t\t\t   #\n",
    "###\t\t\t\t\t\t\t\t\t\t\t\t\t\t\t\t   #\n",
    "### It is the simple SIS epidemic without births or deaths.        #\n",
    "####################################################################"
   ]
  },
  {
   "cell_type": "code",
   "execution_count": 2,
   "metadata": {},
   "outputs": [],
   "source": [
    "import scipy.integrate as spi\n",
    "import numpy as np\n",
    "import pylab as pl"
   ]
  },
  {
   "cell_type": "markdown",
   "metadata": {},
   "source": [
    "*beta is the transmission rate and incorporates the encounter rate between susceptible and infectious individuals   together with the probability of transmission.\n",
    "\n",
    "*gamma is called the removal or recovery rate, though often we are more interested in its reciprocal (1/γ) which    determines the average infectious period.\n",
    "\n",
    "*I0 is the initial proportion of the population that are infectious."
   ]
  },
  {
   "cell_type": "code",
   "execution_count": 3,
   "metadata": {},
   "outputs": [],
   "source": [
    "beta=1.4247\n",
    "gamma=0.14286\n",
    "I0=1e-6\n",
    "ND=70 #number of dates\n",
    "TS=1.0\n",
    "INPUT = (1.0-I0, I0)"
   ]
  },
  {
   "cell_type": "code",
   "execution_count": 4,
   "metadata": {},
   "outputs": [],
   "source": [
    "def diff_eqs(INP,t):  \n",
    "\t'''The main set of equations'''\n",
    "\tY=np.zeros((2))\n",
    "\tV = INP    \n",
    "\tY[0] = - beta * V[0] * V[1] + gamma * V[1]\n",
    "\tY[1] = beta * V[0] * V[1] - gamma * V[1]\n",
    "\treturn Y   # For odeint"
   ]
  },
  {
   "cell_type": "code",
   "execution_count": 5,
   "metadata": {},
   "outputs": [
    {
     "name": "stdout",
     "output_type": "stream",
     "text": [
      "[[9.99999000e-01 1.00000000e-06]\n",
      " [9.99996350e-01 3.64966805e-06]\n",
      " [9.99986841e-01 1.31593720e-05]\n",
      " [9.99952547e-01 4.74534621e-05]\n",
      " [9.99828938e-01 1.71062084e-04]\n",
      " [9.99383837e-01 6.16163188e-04]\n",
      " [9.97783707e-01 2.21629259e-03]\n",
      " [9.92064920e-01 7.93507958e-03]\n",
      " [9.72049498e-01 2.79505021e-02]\n",
      " [9.06822569e-01 9.31774305e-02]\n",
      " [7.35552109e-01 2.64447891e-01]\n",
      " [4.60173813e-01 5.39826187e-01]\n",
      " [2.40753736e-01 7.59246264e-01]\n",
      " [1.44217695e-01 8.55782305e-01]\n",
      " [1.12915432e-01 8.87084568e-01]\n",
      " [1.03818122e-01 8.96181878e-01]\n",
      " [1.01260206e-01 8.98739794e-01]\n",
      " [1.00547728e-01 8.99452272e-01]\n",
      " [1.00349796e-01 8.99650204e-01]\n",
      " [1.00294851e-01 8.99705149e-01]\n",
      " [1.00279599e-01 8.99720401e-01]\n",
      " [1.00275367e-01 8.99724633e-01]\n",
      " [1.00274194e-01 8.99725806e-01]\n",
      " [1.00273868e-01 8.99726132e-01]\n",
      " [1.00273776e-01 8.99726224e-01]\n",
      " [1.00273751e-01 8.99726249e-01]\n",
      " [1.00273745e-01 8.99726255e-01]\n",
      " [1.00273743e-01 8.99726257e-01]\n",
      " [1.00273742e-01 8.99726258e-01]\n",
      " [1.00273741e-01 8.99726259e-01]\n",
      " [1.00273741e-01 8.99726259e-01]\n",
      " [1.00273741e-01 8.99726259e-01]\n",
      " [1.00273742e-01 8.99726258e-01]\n",
      " [1.00273742e-01 8.99726258e-01]\n",
      " [1.00273742e-01 8.99726258e-01]\n",
      " [1.00273742e-01 8.99726258e-01]\n",
      " [1.00273742e-01 8.99726258e-01]\n",
      " [1.00273742e-01 8.99726258e-01]\n",
      " [1.00273742e-01 8.99726258e-01]\n",
      " [1.00273742e-01 8.99726258e-01]\n",
      " [1.00273742e-01 8.99726258e-01]\n",
      " [1.00273742e-01 8.99726258e-01]\n",
      " [1.00273742e-01 8.99726258e-01]\n",
      " [1.00273742e-01 8.99726258e-01]\n",
      " [1.00273742e-01 8.99726258e-01]\n",
      " [1.00273742e-01 8.99726258e-01]\n",
      " [1.00273742e-01 8.99726258e-01]\n",
      " [1.00273742e-01 8.99726258e-01]\n",
      " [1.00273742e-01 8.99726258e-01]\n",
      " [1.00273742e-01 8.99726258e-01]\n",
      " [1.00273742e-01 8.99726258e-01]\n",
      " [1.00273742e-01 8.99726258e-01]\n",
      " [1.00273742e-01 8.99726258e-01]\n",
      " [1.00273742e-01 8.99726258e-01]\n",
      " [1.00273742e-01 8.99726258e-01]\n",
      " [1.00273742e-01 8.99726258e-01]\n",
      " [1.00273742e-01 8.99726258e-01]\n",
      " [1.00273742e-01 8.99726258e-01]\n",
      " [1.00273742e-01 8.99726258e-01]\n",
      " [1.00273742e-01 8.99726258e-01]\n",
      " [1.00273742e-01 8.99726258e-01]\n",
      " [1.00273742e-01 8.99726258e-01]\n",
      " [1.00273742e-01 8.99726258e-01]\n",
      " [1.00273742e-01 8.99726258e-01]\n",
      " [1.00273742e-01 8.99726258e-01]\n",
      " [1.00273742e-01 8.99726258e-01]\n",
      " [1.00273742e-01 8.99726258e-01]\n",
      " [1.00273742e-01 8.99726258e-01]\n",
      " [1.00273742e-01 8.99726258e-01]\n",
      " [1.00273742e-01 8.99726258e-01]\n",
      " [1.00273742e-01 8.99726258e-01]]\n"
     ]
    }
   ],
   "source": [
    "t_start = 0.0; t_end = ND; t_inc = TS\n",
    "t_range = np.arange(t_start, t_end+t_inc, t_inc)\n",
    "RES = spi.odeint(diff_eqs,INPUT,t_range)\n",
    "\n",
    "print(RES)"
   ]
  },
  {
   "cell_type": "code",
   "execution_count": 6,
   "metadata": {},
   "outputs": [
    {
     "data": {
      "image/png": "[encoded data removed]",
      "text/plain": [
       "<Figure size 432x288 with 2 Axes>"
      ]
     },
     "metadata": {
      "needs_background": "light"
     },
     "output_type": "display_data"
    }
   ],
   "source": [
    "#Ploting\n",
    "pl.subplot(211)\n",
    "pl.plot(RES[:,0], '-g', label='Susceptibles')\n",
    "pl.title('Program_2_5.py')\n",
    "pl.xlabel('Time')\n",
    "pl.ylabel('Susceptibles')\n",
    "pl.subplot(212)\n",
    "pl.plot(RES[:,1], '-r', label='Infectious')\n",
    "pl.xlabel('Time')\n",
    "pl.ylabel('Infectious')\n",
    "pl.show()"
   ]
  }
 ],
 "metadata": {
  "kernelspec": {
   "display_name": "Python 3",
   "language": "python",
   "name": "python3"
  },
  "language_info": {
   "codemirror_mode": {
    "name": "ipython",
    "version": 3
   },
   "file_extension": ".py",
   "mimetype": "text/x-python",
   "name": "python",
   "nbconvert_exporter": "python",
   "pygments_lexer": "ipython3",
   "version": "3.7.6"
  }
 },
 "nbformat": 4,
 "nbformat_minor": 4
}
