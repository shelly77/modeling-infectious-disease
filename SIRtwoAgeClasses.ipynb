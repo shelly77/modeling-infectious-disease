{
 "cells": [
  {
   "cell_type": "code",
   "execution_count": 1,
   "metadata": {},
   "outputs": [],
   "source": [
    "####################################################################\n",
    "###    This is the PYTHON version of program 3.3 from page 79 of   #\n",
    "### \"Modeling Infectious Disease in humans and animals\"            #\n",
    "### by Keeling & Rohani.\t\t\t\t\t\t\t\t\t\t   #\n",
    "###\t\t\t\t\t\t\t\t\t\t\t\t\t\t\t\t   #\n",
    "### It is the SIR model with two different age-groups.\t\t\t   #\n",
    "####################################################################"
   ]
  },
  {
   "cell_type": "code",
   "execution_count": 2,
   "metadata": {},
   "outputs": [],
   "source": [
    "import scipy.integrate as spi\n",
    "import numpy as np\n",
    "import pylab as pl"
   ]
  },
  {
   "cell_type": "markdown",
   "metadata": {},
   "source": [
    "*beta is the matrix of transmission rates and incorporates the encounter rate between susceptible and infectious individuals together with the probability of transmission.\n",
    "\n",
    "*gamma is called the removal or recovery rate, though often we are more interested in its reciprocal (1/γ) which determines the average infectious period.\n",
    "\n",
    "*IC is the rate at which children mature and move into the adult age class\n",
    "\n",
    "*nC is the proportion of the population that are in the childhood group. This is not defined explicitly but calculated as:  nC = μA/(lC+μA)\n",
    "\n",
    "*mu[0] is the death rate in the childhood group\n",
    "\n",
    "*mu[1] is the death rate in the adult group\n",
    "\n",
    "*nu is the birth rate into the childhood class. This is not defined explicitly but calculated as:  ν = (lC+μA) nC\n",
    "\n",
    "*SC(0)\tis the initial proportion of the population that are both susceptible and in the childhood group.\n",
    "\n",
    "*IC(0)\tis the initial proportion of the population that are both infectious and in the childhood group.\n",
    "\n",
    "*SA(0)\tis the initial proportion of the population that are both susceptible and in the adult group.\n",
    "\n",
    "*IA(0)\tis the initial proportion of the population that are both infectious and in the adult group."
   ]
  },
  {
   "cell_type": "code",
   "execution_count": 3,
   "metadata": {},
   "outputs": [],
   "source": [
    "lC=0.066667\n",
    "mu=[0.0, 0.0166667]\n",
    "S0=[0.1, 0.1]\n",
    "I0=[0.0001, 0.0001]\n",
    "ND=MaxTime=100\n",
    "beta=np.array([100.0, 10.0, 10.0, 20.0])\n",
    "gamma=10.0\n",
    "nC=mu[1]/(lC+mu[1])\n",
    "nA=1.0-nC\n",
    "n=np.array([nC,nA])\n",
    "nu=(lC+mu[1])*n[0]\n",
    "TS=0.01\n",
    "INPUT=np.hstack((S0,I0))"
   ]
  },
  {
   "cell_type": "code",
   "execution_count": 4,
   "metadata": {},
   "outputs": [
    {
     "name": "stdout",
     "output_type": "stream",
     "text": [
      "[[1.00000000e-01 1.00000000e-01 1.00000000e-04 1.00000000e-04]\n",
      " [1.00088954e-01 1.00047088e-01 1.00904363e-04 9.32576580e-05]\n",
      " [1.00177816e-01 1.00094347e-01 1.01753144e-04 8.70450071e-05]\n",
      " ...\n",
      " [9.75666166e-02 1.94489264e-01 1.00951352e-03 3.20448992e-04]\n",
      " [9.75666180e-02 1.94489795e-01 1.00951049e-03 3.20449414e-04]\n",
      " [9.75666196e-02 1.94490326e-01 1.00950747e-03 3.20449840e-04]]\n"
     ]
    }
   ],
   "source": [
    "def diff_eqs(INP,t):  \n",
    "\t'''The main set of equations'''\n",
    "\tY=np.zeros((4))\n",
    "\tV = INP    \n",
    "\tY[0] = nu - (beta[0] * V[2] + beta[2] * V[3]) * V[0] - mu[0] * V[0] - lC * V[0]\n",
    "\tY[1] = lC * V[0] - (beta[1]*V[2] + beta[3]*V[3]) * V[1] - mu[1] * V[1]\n",
    "\tY[2] = (beta[0] * V[2] + beta[2] * V[3]) * V[0] - gamma * V[2] - mu[0] * V[2] - lC * V[2]\n",
    "\tY[3] = (beta[1]*V[2] + beta[3]*V[3]) * V[1] - gamma * V[3] - mu[1] * V[3]\n",
    "\treturn Y   # For odeint\n",
    "\n",
    "t_start = 0.0; t_end = ND; t_inc = TS\n",
    "t_range = np.arange(t_start, t_end+t_inc, t_inc)\n",
    "RES = spi.odeint(diff_eqs,INPUT,t_range)\n",
    "\n",
    "print(RES)"
   ]
  },
  {
   "cell_type": "code",
   "execution_count": 5,
   "metadata": {},
   "outputs": [
    {
     "data": {
      "image/png": "[encoded data removed]",
      "text/plain": [
       "<Figure size 432x288 with 2 Axes>"
      ]
     },
     "metadata": {
      "needs_background": "light"
     },
     "output_type": "display_data"
    }
   ],
   "source": [
    "pl.subplot(211)\n",
    "pl.plot(RES[:,0], 'g-', label='Ch.Susc')\n",
    "pl.plot(RES[:,1], 'g--', label='Ad.Susc')\n",
    "pl.ylabel(\"Susceptibles\")\n",
    "pl.xlabel('Time')\n",
    "pl.legend(loc=0)\n",
    "pl.subplot(212)\n",
    "pl.plot(RES[:,3], 'r--', label='Ad.Inf')\n",
    "pl.plot(RES[:,2], 'r-', label='Ch.Inf')\n",
    "pl.ylabel('Infectious')\n",
    "pl.xlabel('Time')\n",
    "pl.legend(loc=0)\n",
    "pl.show()"
   ]
  }
 ],
 "metadata": {
  "kernelspec": {
   "display_name": "Python 3",
   "language": "python",
   "name": "python3"
  },
  "language_info": {
   "codemirror_mode": {
    "name": "ipython",
    "version": 3
   },
   "file_extension": ".py",
   "mimetype": "text/x-python",
   "name": "python",
   "nbconvert_exporter": "python",
   "pygments_lexer": "ipython3",
   "version": "3.7.6"
  }
 },
 "nbformat": 4,
 "nbformat_minor": 4
}
