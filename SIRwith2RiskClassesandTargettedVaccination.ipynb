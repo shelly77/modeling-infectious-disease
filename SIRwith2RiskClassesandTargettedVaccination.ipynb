{
 "cells": [
  {
   "cell_type": "code",
   "execution_count": 1,
   "metadata": {},
   "outputs": [],
   "source": [
    "####################################################################\n",
    "###    This is the PYTHON version of program 8.4 from page 306 of  #\n",
    "### \"Modeling Infectious Disease in humans and animals\"            #\n",
    "### by Keeling & Rohani.\t\t\t\t\t\t\t\t\t\t   #\n",
    "###\t\t\t\t\t\t\t\t\t\t\t\t\t\t\t\t   #\n",
    "### It is the SIR model with two different risk-groups, each group #\n",
    "### has an associated birth and vaccination rate.\t\t\t\t   #\n",
    "###\t\t\t\t\t\t\t\t\t\t\t\t\t\t\t\t   #\n",
    "### Note, gamma, mu, p, S and I are all vectors. beta is a matrix. #\n",
    "### tV is the time at which vaccination starts.    \t\t\t\t   #\n",
    "####################################################################"
   ]
  },
  {
   "cell_type": "code",
   "execution_count": 2,
   "metadata": {},
   "outputs": [],
   "source": [
    "import scipy.integrate as spi\n",
    "import numpy as np\n",
    "import pylab as pl"
   ]
  },
  {
   "cell_type": "markdown",
   "metadata": {},
   "source": [
    "*beta is the matrix of transmission rates and incorporates the encounter rate between susceptible and infectious individuals together with the probability of transmission.\n",
    "\n",
    "*gamma is called the removal or recovery rate, though often we are more interested in its reciprocal (1/γ) which determines the average infectious period.\n",
    "\n",
    "*μH is the birth rate for the high risk group. The proportion of the population in the high-risk group is μH/μ\n",
    "\n",
    "*μL\tis the birth rate for the low risk group. The proportion of the population in the high-risk group is μL/μ\n",
    "\n",
    "*mu is the per capita death rate for μH and μL respectively.\n",
    "\n",
    "*pH is the proportion of the high-risk group that are vaccinated at birth.\n",
    "\n",
    "*pL is the proportion of the low-risk group that are vaccinated at birth.\n",
    "\n",
    "*tV\tis the time at which the vaccination program is begun.\n",
    "\n",
    "*S(0) is the initial proportion of the population that are both susceptible and in risk group X.\n",
    "\n",
    "*I(0) is the initial proportion of the population that are both infectious and in risk group X."
   ]
  },
  {
   "cell_type": "code",
   "execution_count": 3,
   "metadata": {},
   "outputs": [],
   "source": [
    "beta=np.array([[1., 0.01],[0.01 ,0.1]]);\n",
    "gamma=np.array([0.1, 0.1]);\n",
    "#mu consists of μH and μL\n",
    "mu=np.array([0.2, 0.8])*5e-5;\n",
    "#p0 consists of pH and pL\n",
    "p0=np.array([0.4, 0.1]);\n",
    "tV=50*365;\n",
    "S0=np.array([0.1, 0.7]);\n",
    "I0=np.array([1e-5, 1e-5]);\n",
    "ND=MaxTime=100*365;\n",
    "TS=1.0"
   ]
  },
  {
   "cell_type": "code",
   "execution_count": 4,
   "metadata": {},
   "outputs": [],
   "source": [
    "INPUT = np.hstack((S0,I0))"
   ]
  },
  {
   "cell_type": "code",
   "execution_count": 5,
   "metadata": {},
   "outputs": [],
   "source": [
    "def diff_eqs(INP,t):  \n",
    "\t'''The main set of equations'''\n",
    "\tY=np.zeros((4))\n",
    "\tV = INP   \n",
    "\tMU=sum(mu)\n",
    "\tfor i in range(2):\n",
    "\t\tY[i]= mu[i]*(1-p[i]) - (beta[i,0]*V[2]+beta[i,1]*V[3])*V[i] - MU*V[i]\n",
    "\t\tY[i+2]= (beta[i,0]*V[2]+beta[i,1]*V[3])*V[i] - gamma[i]*V[i+2] - MU*V[i+2]\n",
    "\treturn Y   # For odeint\n"
   ]
  },
  {
   "cell_type": "code",
   "execution_count": 6,
   "metadata": {},
   "outputs": [
    {
     "name": "stdout",
     "output_type": "stream",
     "text": [
      "[[1.00891832e-01 7.44034038e-01 5.34478350e-05 1.48471416e-05]\n",
      " [1.00887375e-01 7.44031332e-01 5.35076369e-05 1.48640391e-05]\n",
      " [1.00882912e-01 7.44028625e-01 5.35672660e-05 1.48809413e-05]\n",
      " ...\n",
      " [9.95598115e-02 7.26128127e-01 1.36619198e-06 3.64989681e-07]\n",
      " [9.95606971e-02 7.26127784e-01 1.36588611e-06 3.64895687e-07]\n",
      " [9.95615827e-02 7.26127441e-01 1.36558150e-06 3.64802037e-07]]\n"
     ]
    }
   ],
   "source": [
    "t_start = 0.0; t_end = tV; t_inc = TS\n",
    "t_range1 = np.arange(t_start, t_end, t_inc)\n",
    "t_start = tV; t_end = ND; t_inc = TS\n",
    "t_range2 = np.arange(tV, t_end, t_inc)\n",
    "T = np.hstack((t_range1, t_range2))\n",
    "p=np.array([0,0])\n",
    "RES1 = spi.odeint(diff_eqs,INPUT,t_range1)\n",
    "p=p0\n",
    "RES2 = spi.odeint(diff_eqs,RES1[-1],t_range2)\n",
    "print(RES2)\n",
    "\n"
   ]
  },
  {
   "cell_type": "code",
   "execution_count": 7,
   "metadata": {},
   "outputs": [],
   "source": [
    "S1 = np.hstack((RES1[:,0],RES2[:,0]))\n",
    "S2 = np.hstack((RES1[:,1],RES2[:,1]))\n",
    "I1 = np.hstack((RES1[:,2],RES2[:,2]))\n",
    "I2 = np.hstack((RES1[:,3],RES2[:,3]))\n",
    "\n",
    "TT = np.arange(len(S1))"
   ]
  },
  {
   "cell_type": "code",
   "execution_count": 8,
   "metadata": {},
   "outputs": [
    {
     "data": {
      "image/png": "[encoded data removed]",
      "text/plain": [
       "<Figure size 432x288 with 2 Axes>"
      ]
     },
     "metadata": {
      "needs_background": "light"
     },
     "output_type": "display_data"
    }
   ],
   "source": [
    "pl.subplot(211)\n",
    "pl.plot(TT/365.0, S1, '-g')\n",
    "pl.plot(TT/365.0, S2, '--g')\n",
    "pl.legend(('High Risk','Low Risk'), loc=0)\n",
    "ll=pl.ylim()\n",
    "tVV=np.repeat([tV/365.],len(ll))\n",
    "pl.plot(tVV, ll, '--k')\n",
    "pl.ylabel('Susceptibles')\n",
    "pl.subplot(212)\n",
    "pl.plot(TT/365.0, I1, '-r')\n",
    "pl.plot(TT/365.0, I2, '--r')\n",
    "ll=pl.ylim()\n",
    "tVV=np.repeat([tV/365.],len(ll))\n",
    "pl.plot(tVV, ll, '--k')\n",
    "pl.ylabel('Infected')\n",
    "pl.legend(('High Risk','Low Risk'), loc=0)\n",
    "pl.xlabel('Time (Years)')\n",
    "\n",
    "pl.show()"
   ]
  }
 ],
 "metadata": {
  "kernelspec": {
   "display_name": "Python 3",
   "language": "python",
   "name": "python3"
  },
  "language_info": {
   "codemirror_mode": {
    "name": "ipython",
    "version": 3
   },
   "file_extension": ".py",
   "mimetype": "text/x-python",
   "name": "python",
   "nbconvert_exporter": "python",
   "pygments_lexer": "ipython3",
   "version": "3.7.6"
  }
 },
 "nbformat": 4,
 "nbformat_minor": 4
}
