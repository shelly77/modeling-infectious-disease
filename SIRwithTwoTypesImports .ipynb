{
 "cells": [
  {
   "cell_type": "code",
   "execution_count": 58,
   "metadata": {},
   "outputs": [],
   "source": [
    "####################################################################\n",
    "###    This is the PYTHON version of program 6.4 from page 203 of  #\n",
    "### \"Modeling Infectious Disease in humans and animals\"            #\n",
    "### by Keeling & Rohani.\t\t\t\t\t\t\t\t\t\t   #\n",
    "###\t\t\t\t\t\t\t\t\t\t\t\t\t\t\t\t   #\n",
    "### It is the SIR model (including births and deaths) with full    #\n",
    "### (event-driven) demographic stochasticity. Two forms of imports #\n",
    "### (governed by the parameters epsilon and delta) are implemented.#\n",
    "###\t\t\t\t\t\t\t\t\t\t\t\t\t\t\t\t   #\n",
    "### This is a more complex stochastic model as 8 events are\t\t   #\n",
    "### possible: infection, recovery, birth, death of susceptible,    #\n",
    "### death of infected, death of recoveredand two forms of imports  #\n",
    "###\t\t\t\t\t\t\t\t\t\t\t\t\t\t\t\t   #\n",
    "### Note: by default we are using a very small population size \t   #\n",
    "### to highlight the stochasticity.\t\t\t\t   \t\t\t\t   #\n",
    "####################################################################"
   ]
  },
  {
   "cell_type": "code",
   "execution_count": 59,
   "metadata": {},
   "outputs": [],
   "source": [
    "import numpy as np\n",
    "import pylab as pl\n",
    "from matplotlib.font_manager import FontProperties as mfp"
   ]
  },
  {
   "cell_type": "code",
   "execution_count": 60,
   "metadata": {},
   "outputs": [],
   "source": [
    "beta=1.0\n",
    "gamma=1/10.0\n",
    "mu=5e-4\n",
    "#N0=5000.0\n",
    "### You may want to try with popylation size of 50 (small) to see the events\n",
    "### In this case uncomment the next line\n",
    "N0=50.0\n",
    "delta=0.01;\n",
    "epsilon=delta*10/N0;\n",
    "ND=MaxTime=10*365.0\n",
    "Y0=pl.ceil(mu*N0/gamma)\n",
    "X0=pl.floor(gamma*N0/beta)\n",
    "Z0=N0-X0-Y0"
   ]
  },
  {
   "cell_type": "code",
   "execution_count": 61,
   "metadata": {},
   "outputs": [],
   "source": [
    "INPUT = np.array((X0,Y0,Z0, 0.0, 0.0))\n",
    "\n",
    "timestep=0.0\n"
   ]
  },
  {
   "cell_type": "code",
   "execution_count": 62,
   "metadata": {},
   "outputs": [],
   "source": [
    "def stoc_eqs(INP,ts): \n",
    "\tV = INP\n",
    "\tRate=np.zeros((8))\n",
    "\tChange=np.zeros((8,3))\n",
    "\tN=pl.sum(V[range(3)])\n",
    "\tRate[0] = beta*V[0]*V[1]/N;  Change[0,:]=([-1, +1, 0]);\n",
    "\tRate[1] = gamma*V[1];  Change[1,:]=([0, -1, +1]);\n",
    "\tRate[2] = mu*N;  Change[2,:]=([+1, 0, 0]);\n",
    "\tRate[3] = mu*V[0];  Change[3,:]=([-1, 0, 0]);\n",
    "\tRate[4] = mu*V[1];  Change[4,:]=([0, -1, 0]);\n",
    "\tRate[5] = mu*V[2];  Change[5,:]=([0, 0, -1]);\n",
    "\tRate[6] = epsilon*V[0];  Change[6,:]=[-1, +1, 0];\n",
    "\tRate[7] = delta;  Change[7,:]=[0, +1, 0];\n",
    "\tR1=pl.rand();\n",
    "\tR2=pl.rand();\n",
    "\tts = -np.log(R2)/(np.sum(Rate));\n",
    "\tm=min(np.where(pl.cumsum(Rate)>=R1*pl.sum(Rate))[0]);\n",
    "\tV[range(3)]=V[range(3)]+Change[m,:]\n",
    "\tV[3]=0; V[4]=0.;\n",
    "\tif m == 6: V[3] = 1.\n",
    "\tif m == 7: V[4] = 1.\n",
    "\treturn [V,ts]"
   ]
  },
  {
   "cell_type": "code",
   "execution_count": 63,
   "metadata": {},
   "outputs": [],
   "source": [
    "def Stoch_Iteration(INPUT):\n",
    "\tlop=0\n",
    "\tts=0\n",
    "\tT=[0]\n",
    "\tS=[0]\n",
    "\tI=[0]\n",
    "\tR=[0]\n",
    "\tet=[]\n",
    "\tdt=[]\n",
    "\twhile T[lop] < ND:\n",
    "\t\tlop=lop+1\n",
    "\t\tT.append(T[lop-1]+ts)\n",
    "\t\tS.append(INPUT[0])\n",
    "\t\tI.append(INPUT[1])\n",
    "\t\tR.append(INPUT[2])\n",
    "\t\tet.append(INPUT[3])\n",
    "\t\tdt.append(INPUT[4])\n",
    "\t\t[res,ts] = stoc_eqs(INPUT,ts)\n",
    "\t\tlop=lop+1\n",
    "\t\tINPUT = res\n",
    "\t\tT.append(T[lop-1])\n",
    "\t\tS.append(INPUT[0])\n",
    "\t\tI.append(INPUT[1])\n",
    "\t\tR.append(INPUT[2])\n",
    "\t\tet.append(INPUT[3])\n",
    "\t\tdt.append(INPUT[4])\n",
    "\t\tif lop>len(T):\n",
    "\t\t\tT[lop*2]=0\n",
    "\t\t\tS[lop*2]=0\n",
    "\t\t\tI[lop*2]=0\n",
    "\t\t\tR[lop*2]=0\n",
    "\t\t\tet[lop*2]=0\n",
    "\t\t\tdt[lop*2]=0\n",
    "\treturn [T,S,I,R, et, dt]"
   ]
  },
  {
   "cell_type": "code",
   "execution_count": 64,
   "metadata": {},
   "outputs": [],
   "source": [
    "[T,S,I,R, et, dt]=Stoch_Iteration(INPUT)\n",
    "\n",
    "tT=np.array(T)[1:,]/365.\n",
    "tS=np.array(S)[1:,]\n",
    "tI=np.array(I)[1:,]\n",
    "tR=np.array(R)[1:,]\n",
    "indpl=np.where(tT<10)"
   ]
  },
  {
   "cell_type": "code",
   "execution_count": 65,
   "metadata": {},
   "outputs": [
    {
     "data": {
      "image/png": "[encoded data removed]",
      "text/plain": [
       "<Figure size 432x288 with 2 Axes>"
      ]
     },
     "metadata": {
      "needs_background": "light"
     },
     "output_type": "display_data"
    }
   ],
   "source": [
    "### plotting\n",
    "pl.subplot(211)\n",
    "h=pl.plot(tT[np.where(tT<10)], tS[np.where(tT<10)], 'g')\n",
    "#pl.xlabel ('Time (years)')\n",
    "pl.ylabel ('Susceptible')\n",
    "pl.subplot(212)\n",
    "pl.plot(tT[np.where(tT<10)], tI[np.where(tT<10)], 'r')\n",
    "ax=pl.gca()\n",
    "me=np.where(np.array(dt)>0)[0]\n",
    "md=np.where(np.array(dt)>0)[0]\n",
    "pl.plot(tT[me],np.zeros((len(me)))+ax.get_ylim()[0]+5, 'bo', linewidth=4, label='Epsilon imports')\n",
    "pl.plot(tT[me],np.zeros((len(me)))+ax.get_ylim()[1]-5, 'ro', linewidth=4, label='Delta imports')\n",
    "pl.legend(loc=7,prop=mfp(size='smaller'))\n",
    "pl.ylabel ('Infectious')\n",
    "pl.show()"
   ]
  }
 ],
 "metadata": {
  "kernelspec": {
   "display_name": "Python 3",
   "language": "python",
   "name": "python3"
  },
  "language_info": {
   "codemirror_mode": {
    "name": "ipython",
    "version": 3
   },
   "file_extension": ".py",
   "mimetype": "text/x-python",
   "name": "python",
   "nbconvert_exporter": "python",
   "pygments_lexer": "ipython3",
   "version": "3.7.6"
  }
 },
 "nbformat": 4,
 "nbformat_minor": 4
}
